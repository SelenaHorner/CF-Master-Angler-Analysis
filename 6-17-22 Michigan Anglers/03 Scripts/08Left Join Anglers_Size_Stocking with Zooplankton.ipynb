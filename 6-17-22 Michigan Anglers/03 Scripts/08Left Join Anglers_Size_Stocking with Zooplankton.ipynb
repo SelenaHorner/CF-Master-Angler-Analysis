{
 "cells": [
  {
   "cell_type": "markdown",
   "id": "9606f037",
   "metadata": {},
   "source": [
    "# Summary of Notebook\n",
    "## Left merged anglers, minimum fish sizes, stocking and zooplankton together\n",
    "## zooplankton dataframe began with 1997 (versus 1994)\n",
    "## dropped angler name for privacy\n",
    "## new dataframe has 7000 records\n",
    "### Exported at a csv\n",
    "### Saved as anglers_size_stocking_plankton_combined"
   ]
  },
  {
   "cell_type": "markdown",
   "id": "aca8a1cb",
   "metadata": {},
   "source": [
    "# Importing Libraries"
   ]
  },
  {
   "cell_type": "code",
   "execution_count": 1,
   "id": "efbf6b0e",
   "metadata": {},
   "outputs": [],
   "source": [
    "#importing libraries\n",
    "import pandas as pd\n",
    "import numpy as np\n",
    "import os\n",
    "import matplotlib.pyplot as plt\n",
    "import seaborn as sns\n",
    "import scipy\n",
    "import datetime as dt"
   ]
  },
  {
   "cell_type": "markdown",
   "id": "0a0fa37a",
   "metadata": {},
   "source": [
    "# Importing dataframe"
   ]
  },
  {
   "cell_type": "code",
   "execution_count": 2,
   "id": "56ee13aa",
   "metadata": {},
   "outputs": [],
   "source": [
    "#import csv master angler, size and stocking dataframe\n",
    "df_anglers = pd.read_csv(r'C:\\Users\\Selena\\Desktop\\6-17-22 Michigan Anglers\\02 Data\\Prepared\\anglers_size_stocking_combined.csv', index_col=False)\n",
    "path = r'C:\\Users\\Selena\\Desktop\\6-17-22 Michigan Anglers'\n",
    "df_anglers = pd.read_csv(os.path.join(path, '02 Data', 'Prepared', 'anglers_size_stocking_combined.csv'), index_col=False)"
   ]
  },
  {
   "cell_type": "markdown",
   "id": "ef7e7caf",
   "metadata": {},
   "source": [
    "# Doing a quick check of the dataframe"
   ]
  },
  {
   "cell_type": "code",
   "execution_count": 3,
   "id": "ebbb1791",
   "metadata": {},
   "outputs": [
    {
     "name": "stdout",
     "output_type": "stream",
     "text": [
      "<class 'pandas.core.frame.DataFrame'>\n",
      "RangeIndex: 8158 entries, 0 to 8157\n",
      "Data columns (total 21 columns):\n",
      " #   Column                         Non-Null Count  Dtype  \n",
      "---  ------                         --------------  -----  \n",
      " 0   Unnamed: 0                     8158 non-null   int64  \n",
      " 1   category                       8158 non-null   object \n",
      " 2   species                        8158 non-null   object \n",
      " 3   waterbody                      8158 non-null   object \n",
      " 4   lake                           8158 non-null   object \n",
      " 5   merge                          8158 non-null   object \n",
      " 6   datetime                       8158 non-null   object \n",
      " 7   date caught                    8158 non-null   object \n",
      " 8   time caught                    8158 non-null   object \n",
      " 9   year                           8158 non-null   int64  \n",
      " 10  weight lbs                     8158 non-null   float64\n",
      " 11  length in                      8158 non-null   float64\n",
      " 12  method                         8158 non-null   object \n",
      " 13  bait                           8158 non-null   object \n",
      " 14  angler name                    8158 non-null   object \n",
      " 15  city                           8158 non-null   object \n",
      " 16  state                          8158 non-null   object \n",
      " 17  time hour caught               8158 non-null   int64  \n",
      " 18  state minimum length (inches)  8158 non-null   float64\n",
      " 19  state record in pounds         8158 non-null   float64\n",
      " 20  number_stocked                 8158 non-null   int64  \n",
      "dtypes: float64(4), int64(4), object(13)\n",
      "memory usage: 1.3+ MB\n"
     ]
    }
   ],
   "source": [
    "df_anglers.info()"
   ]
  },
  {
   "cell_type": "code",
   "execution_count": 4,
   "id": "af380df5",
   "metadata": {},
   "outputs": [
    {
     "name": "stderr",
     "output_type": "stream",
     "text": [
      "C:\\Users\\Selena\\AppData\\Local\\Temp\\ipykernel_684\\403731148.py:2: FutureWarning: In a future version of pandas all arguments of DataFrame.drop except for the argument 'labels' will be keyword-only.\n",
      "  df_anglers = df_anglers.drop('Unnamed: 0', 1)\n"
     ]
    }
   ],
   "source": [
    "#need to remove unnamed\n",
    "df_anglers = df_anglers.drop('Unnamed: 0', 1)"
   ]
  },
  {
   "cell_type": "code",
   "execution_count": 5,
   "id": "755e0a0d",
   "metadata": {},
   "outputs": [
    {
     "name": "stdout",
     "output_type": "stream",
     "text": [
      "<class 'pandas.core.frame.DataFrame'>\n",
      "RangeIndex: 8158 entries, 0 to 8157\n",
      "Data columns (total 20 columns):\n",
      " #   Column                         Non-Null Count  Dtype  \n",
      "---  ------                         --------------  -----  \n",
      " 0   category                       8158 non-null   object \n",
      " 1   species                        8158 non-null   object \n",
      " 2   waterbody                      8158 non-null   object \n",
      " 3   lake                           8158 non-null   object \n",
      " 4   merge                          8158 non-null   object \n",
      " 5   datetime                       8158 non-null   object \n",
      " 6   date caught                    8158 non-null   object \n",
      " 7   time caught                    8158 non-null   object \n",
      " 8   year                           8158 non-null   int64  \n",
      " 9   weight lbs                     8158 non-null   float64\n",
      " 10  length in                      8158 non-null   float64\n",
      " 11  method                         8158 non-null   object \n",
      " 12  bait                           8158 non-null   object \n",
      " 13  angler name                    8158 non-null   object \n",
      " 14  city                           8158 non-null   object \n",
      " 15  state                          8158 non-null   object \n",
      " 16  time hour caught               8158 non-null   int64  \n",
      " 17  state minimum length (inches)  8158 non-null   float64\n",
      " 18  state record in pounds         8158 non-null   float64\n",
      " 19  number_stocked                 8158 non-null   int64  \n",
      "dtypes: float64(4), int64(3), object(13)\n",
      "memory usage: 1.2+ MB\n"
     ]
    }
   ],
   "source": [
    "df_anglers.info()"
   ]
  },
  {
   "cell_type": "code",
   "execution_count": 6,
   "id": "998a1eab",
   "metadata": {},
   "outputs": [
    {
     "data": {
      "text/html": [
       "<div>\n",
       "<style scoped>\n",
       "    .dataframe tbody tr th:only-of-type {\n",
       "        vertical-align: middle;\n",
       "    }\n",
       "\n",
       "    .dataframe tbody tr th {\n",
       "        vertical-align: top;\n",
       "    }\n",
       "\n",
       "    .dataframe thead th {\n",
       "        text-align: right;\n",
       "    }\n",
       "</style>\n",
       "<table border=\"1\" class=\"dataframe\">\n",
       "  <thead>\n",
       "    <tr style=\"text-align: right;\">\n",
       "      <th></th>\n",
       "      <th>category</th>\n",
       "      <th>species</th>\n",
       "      <th>waterbody</th>\n",
       "      <th>lake</th>\n",
       "      <th>merge</th>\n",
       "      <th>datetime</th>\n",
       "      <th>date caught</th>\n",
       "      <th>time caught</th>\n",
       "      <th>year</th>\n",
       "      <th>weight lbs</th>\n",
       "      <th>length in</th>\n",
       "      <th>method</th>\n",
       "      <th>bait</th>\n",
       "      <th>angler name</th>\n",
       "      <th>city</th>\n",
       "      <th>state</th>\n",
       "      <th>time hour caught</th>\n",
       "      <th>state minimum length (inches)</th>\n",
       "      <th>state record in pounds</th>\n",
       "      <th>number_stocked</th>\n",
       "    </tr>\n",
       "  </thead>\n",
       "  <tbody>\n",
       "    <tr>\n",
       "      <th>0</th>\n",
       "      <td>Catch and Keep</td>\n",
       "      <td>atlantic salmon</td>\n",
       "      <td>Lake Huron</td>\n",
       "      <td>HU</td>\n",
       "      <td>lk_huron</td>\n",
       "      <td>7/4/1994 12:30</td>\n",
       "      <td>7/4/1994</td>\n",
       "      <td>12:30:00</td>\n",
       "      <td>1994</td>\n",
       "      <td>13.31</td>\n",
       "      <td>28.00</td>\n",
       "      <td>Trolling</td>\n",
       "      <td>Silver Streak</td>\n",
       "      <td>Eric K. Klei</td>\n",
       "      <td>Redford</td>\n",
       "      <td>Michigan</td>\n",
       "      <td>12</td>\n",
       "      <td>32.0</td>\n",
       "      <td>32.63</td>\n",
       "      <td>39074</td>\n",
       "    </tr>\n",
       "    <tr>\n",
       "      <th>1</th>\n",
       "      <td>Catch and Keep</td>\n",
       "      <td>brown trout</td>\n",
       "      <td>Lake Huron</td>\n",
       "      <td>HU</td>\n",
       "      <td>lk_huron</td>\n",
       "      <td>8/10/1994 9:00</td>\n",
       "      <td>8/10/1994</td>\n",
       "      <td>9:00:00</td>\n",
       "      <td>1994</td>\n",
       "      <td>19.31</td>\n",
       "      <td>34.00</td>\n",
       "      <td>Trolling</td>\n",
       "      <td>Silver Streak</td>\n",
       "      <td>Paul J. Gunnels</td>\n",
       "      <td>Greenbush</td>\n",
       "      <td>Michigan</td>\n",
       "      <td>9</td>\n",
       "      <td>24.0</td>\n",
       "      <td>41.45</td>\n",
       "      <td>2411757</td>\n",
       "    </tr>\n",
       "    <tr>\n",
       "      <th>2</th>\n",
       "      <td>Catch and Keep</td>\n",
       "      <td>chinook salmon</td>\n",
       "      <td>Lake Huron</td>\n",
       "      <td>HU</td>\n",
       "      <td>lk_huron</td>\n",
       "      <td>7/24/1994 15:45</td>\n",
       "      <td>7/24/1994</td>\n",
       "      <td>15:45:00</td>\n",
       "      <td>1994</td>\n",
       "      <td>27.75</td>\n",
       "      <td>36.50</td>\n",
       "      <td>Trolling</td>\n",
       "      <td>Silver King Artic</td>\n",
       "      <td>Phillip Warren</td>\n",
       "      <td>Brentwood</td>\n",
       "      <td>Michigan</td>\n",
       "      <td>15</td>\n",
       "      <td>39.0</td>\n",
       "      <td>47.54</td>\n",
       "      <td>7435405</td>\n",
       "    </tr>\n",
       "    <tr>\n",
       "      <th>3</th>\n",
       "      <td>Catch and Keep</td>\n",
       "      <td>round whitefish-menomine</td>\n",
       "      <td>Lake Huron</td>\n",
       "      <td>HU</td>\n",
       "      <td>lk_huron</td>\n",
       "      <td>3/21/1994 14:45</td>\n",
       "      <td>3/21/1994</td>\n",
       "      <td>14:45:00</td>\n",
       "      <td>1994</td>\n",
       "      <td>1.25</td>\n",
       "      <td>17.00</td>\n",
       "      <td>Still Fishing</td>\n",
       "      <td>Corn</td>\n",
       "      <td>No Name</td>\n",
       "      <td>Harrisville</td>\n",
       "      <td>Michigan</td>\n",
       "      <td>14</td>\n",
       "      <td>15.0</td>\n",
       "      <td>4.00</td>\n",
       "      <td>0</td>\n",
       "    </tr>\n",
       "    <tr>\n",
       "      <th>4</th>\n",
       "      <td>Catch and Keep</td>\n",
       "      <td>lake trout</td>\n",
       "      <td>Lake Superior</td>\n",
       "      <td>SU</td>\n",
       "      <td>lk_sup</td>\n",
       "      <td>7/6/1994 9:00</td>\n",
       "      <td>7/6/1994</td>\n",
       "      <td>9:00:00</td>\n",
       "      <td>1994</td>\n",
       "      <td>34.50</td>\n",
       "      <td>42.13</td>\n",
       "      <td>Trolling</td>\n",
       "      <td>Avery Spoon</td>\n",
       "      <td>Kurt Marjonen</td>\n",
       "      <td>Gwinn</td>\n",
       "      <td>Michigan</td>\n",
       "      <td>9</td>\n",
       "      <td>34.0</td>\n",
       "      <td>61.50</td>\n",
       "      <td>5011563</td>\n",
       "    </tr>\n",
       "  </tbody>\n",
       "</table>\n",
       "</div>"
      ],
      "text/plain": [
       "         category                   species      waterbody lake     merge  \\\n",
       "0  Catch and Keep           atlantic salmon     Lake Huron   HU  lk_huron   \n",
       "1  Catch and Keep               brown trout     Lake Huron   HU  lk_huron   \n",
       "2  Catch and Keep            chinook salmon     Lake Huron   HU  lk_huron   \n",
       "3  Catch and Keep  round whitefish-menomine     Lake Huron   HU  lk_huron   \n",
       "4  Catch and Keep                lake trout  Lake Superior   SU    lk_sup   \n",
       "\n",
       "          datetime date caught time caught  year  weight lbs  length in  \\\n",
       "0   7/4/1994 12:30    7/4/1994    12:30:00  1994       13.31      28.00   \n",
       "1   8/10/1994 9:00   8/10/1994     9:00:00  1994       19.31      34.00   \n",
       "2  7/24/1994 15:45   7/24/1994    15:45:00  1994       27.75      36.50   \n",
       "3  3/21/1994 14:45   3/21/1994    14:45:00  1994        1.25      17.00   \n",
       "4    7/6/1994 9:00    7/6/1994     9:00:00  1994       34.50      42.13   \n",
       "\n",
       "          method               bait      angler name         city     state  \\\n",
       "0       Trolling      Silver Streak     Eric K. Klei      Redford  Michigan   \n",
       "1       Trolling      Silver Streak  Paul J. Gunnels    Greenbush  Michigan   \n",
       "2       Trolling  Silver King Artic   Phillip Warren    Brentwood  Michigan   \n",
       "3  Still Fishing               Corn          No Name  Harrisville  Michigan   \n",
       "4       Trolling        Avery Spoon    Kurt Marjonen        Gwinn  Michigan   \n",
       "\n",
       "   time hour caught  state minimum length (inches)  state record in pounds  \\\n",
       "0                12                           32.0                   32.63   \n",
       "1                 9                           24.0                   41.45   \n",
       "2                15                           39.0                   47.54   \n",
       "3                14                           15.0                    4.00   \n",
       "4                 9                           34.0                   61.50   \n",
       "\n",
       "   number_stocked  \n",
       "0           39074  \n",
       "1         2411757  \n",
       "2         7435405  \n",
       "3               0  \n",
       "4         5011563  "
      ]
     },
     "execution_count": 6,
     "metadata": {},
     "output_type": "execute_result"
    }
   ],
   "source": [
    "df_anglers.head()"
   ]
  },
  {
   "cell_type": "markdown",
   "id": "fc07d09e",
   "metadata": {},
   "source": [
    "# Importing zooplankton dataframe"
   ]
  },
  {
   "cell_type": "code",
   "execution_count": 7,
   "id": "6bbabf3f",
   "metadata": {},
   "outputs": [],
   "source": [
    "#import csv zooplankton dataframe\n",
    "df_plankton = pd.read_csv(r'C:\\Users\\Selena\\Desktop\\6-17-22 Michigan Anglers\\02 Data\\Original\\4zooplankton.csv')\n",
    "path = r'C:\\Users\\Selena\\Desktop\\6-17-22 Michigan Anglers'\n",
    "df_plankton = pd.read_csv(os.path.join(path, '02 Data', 'Original', '4zooplankton.csv'))"
   ]
  },
  {
   "cell_type": "markdown",
   "id": "17c0c389",
   "metadata": {},
   "source": [
    "#note: remember this dataframe starts at year 1997."
   ]
  },
  {
   "cell_type": "code",
   "execution_count": 8,
   "id": "bb0dc2a9",
   "metadata": {},
   "outputs": [
    {
     "name": "stdout",
     "output_type": "stream",
     "text": [
      "<class 'pandas.core.frame.DataFrame'>\n",
      "RangeIndex: 115 entries, 0 to 114\n",
      "Data columns (total 9 columns):\n",
      " #   Column                   Non-Null Count  Dtype  \n",
      "---  ------                   --------------  -----  \n",
      " 0   year                     115 non-null    int64  \n",
      " 1   lake                     115 non-null    object \n",
      " 2   Average of CAL_Num/m3    115 non-null    float64\n",
      " 3   Average of CALIM_Num/m3  115 non-null    float64\n",
      " 4   Average of CYC_Num/m3    115 non-null    float64\n",
      " 5   Average of CYCIM_Num/m3  115 non-null    float64\n",
      " 6   Average of DAP_Num/m3    115 non-null    float64\n",
      " 7   Average of NDAP_Num/m3   115 non-null    float64\n",
      " 8   Average of PRED_Num/m3   115 non-null    float64\n",
      "dtypes: float64(7), int64(1), object(1)\n",
      "memory usage: 8.2+ KB\n"
     ]
    }
   ],
   "source": [
    "df_plankton.info()"
   ]
  },
  {
   "cell_type": "code",
   "execution_count": 9,
   "id": "56477d11",
   "metadata": {},
   "outputs": [
    {
     "data": {
      "text/html": [
       "<div>\n",
       "<style scoped>\n",
       "    .dataframe tbody tr th:only-of-type {\n",
       "        vertical-align: middle;\n",
       "    }\n",
       "\n",
       "    .dataframe tbody tr th {\n",
       "        vertical-align: top;\n",
       "    }\n",
       "\n",
       "    .dataframe thead th {\n",
       "        text-align: right;\n",
       "    }\n",
       "</style>\n",
       "<table border=\"1\" class=\"dataframe\">\n",
       "  <thead>\n",
       "    <tr style=\"text-align: right;\">\n",
       "      <th></th>\n",
       "      <th>year</th>\n",
       "      <th>lake</th>\n",
       "      <th>Average of CAL_Num/m3</th>\n",
       "      <th>Average of CALIM_Num/m3</th>\n",
       "      <th>Average of CYC_Num/m3</th>\n",
       "      <th>Average of CYCIM_Num/m3</th>\n",
       "      <th>Average of DAP_Num/m3</th>\n",
       "      <th>Average of NDAP_Num/m3</th>\n",
       "      <th>Average of PRED_Num/m3</th>\n",
       "    </tr>\n",
       "  </thead>\n",
       "  <tbody>\n",
       "    <tr>\n",
       "      <th>0</th>\n",
       "      <td>1997</td>\n",
       "      <td>ER</td>\n",
       "      <td>1332.809714</td>\n",
       "      <td>3149.196423</td>\n",
       "      <td>4084.126789</td>\n",
       "      <td>17017.671670</td>\n",
       "      <td>9012.268970</td>\n",
       "      <td>11139.410760</td>\n",
       "      <td>266.657652</td>\n",
       "    </tr>\n",
       "    <tr>\n",
       "      <th>1</th>\n",
       "      <td>1997</td>\n",
       "      <td>HU</td>\n",
       "      <td>1361.952076</td>\n",
       "      <td>4339.344804</td>\n",
       "      <td>612.466614</td>\n",
       "      <td>2576.439124</td>\n",
       "      <td>2191.528796</td>\n",
       "      <td>843.755676</td>\n",
       "      <td>8.010978</td>\n",
       "    </tr>\n",
       "    <tr>\n",
       "      <th>2</th>\n",
       "      <td>1997</td>\n",
       "      <td>MI</td>\n",
       "      <td>1323.460662</td>\n",
       "      <td>1967.527733</td>\n",
       "      <td>28.180589</td>\n",
       "      <td>547.761124</td>\n",
       "      <td>1136.366330</td>\n",
       "      <td>47.963581</td>\n",
       "      <td>8.231177</td>\n",
       "    </tr>\n",
       "    <tr>\n",
       "      <th>3</th>\n",
       "      <td>1997</td>\n",
       "      <td>ON</td>\n",
       "      <td>381.725287</td>\n",
       "      <td>269.146030</td>\n",
       "      <td>3597.992767</td>\n",
       "      <td>10811.518080</td>\n",
       "      <td>1569.926038</td>\n",
       "      <td>18711.798140</td>\n",
       "      <td>8.179508</td>\n",
       "    </tr>\n",
       "    <tr>\n",
       "      <th>4</th>\n",
       "      <td>1997</td>\n",
       "      <td>SU</td>\n",
       "      <td>416.114394</td>\n",
       "      <td>1320.778519</td>\n",
       "      <td>112.298705</td>\n",
       "      <td>558.610950</td>\n",
       "      <td>41.561609</td>\n",
       "      <td>53.417912</td>\n",
       "      <td>0.364413</td>\n",
       "    </tr>\n",
       "  </tbody>\n",
       "</table>\n",
       "</div>"
      ],
      "text/plain": [
       "   year lake  Average of CAL_Num/m3  Average of CALIM_Num/m3  \\\n",
       "0  1997   ER            1332.809714              3149.196423   \n",
       "1  1997   HU            1361.952076              4339.344804   \n",
       "2  1997   MI            1323.460662              1967.527733   \n",
       "3  1997   ON             381.725287               269.146030   \n",
       "4  1997   SU             416.114394              1320.778519   \n",
       "\n",
       "   Average of CYC_Num/m3  Average of CYCIM_Num/m3  Average of DAP_Num/m3  \\\n",
       "0            4084.126789             17017.671670            9012.268970   \n",
       "1             612.466614              2576.439124            2191.528796   \n",
       "2              28.180589               547.761124            1136.366330   \n",
       "3            3597.992767             10811.518080            1569.926038   \n",
       "4             112.298705               558.610950              41.561609   \n",
       "\n",
       "   Average of NDAP_Num/m3  Average of PRED_Num/m3  \n",
       "0            11139.410760              266.657652  \n",
       "1              843.755676                8.010978  \n",
       "2               47.963581                8.231177  \n",
       "3            18711.798140                8.179508  \n",
       "4               53.417912                0.364413  "
      ]
     },
     "execution_count": 9,
     "metadata": {},
     "output_type": "execute_result"
    }
   ],
   "source": [
    "df_plankton.head()"
   ]
  },
  {
   "cell_type": "markdown",
   "id": "22947828",
   "metadata": {},
   "source": [
    "# Doing a left merge"
   ]
  },
  {
   "cell_type": "code",
   "execution_count": 10,
   "id": "e601e3ea",
   "metadata": {},
   "outputs": [],
   "source": [
    "#need to do a left join with anglers on left and zooplankton on right using species as the way to merge\n",
    "df_merged = df_anglers.merge(df_plankton, on = (['year','lake']), how = 'left', indicator = True)"
   ]
  },
  {
   "cell_type": "markdown",
   "id": "0a9b9e6e",
   "metadata": {},
   "source": [
    "# Checking results"
   ]
  },
  {
   "cell_type": "code",
   "execution_count": 11,
   "id": "875cf5ba",
   "metadata": {},
   "outputs": [
    {
     "name": "stdout",
     "output_type": "stream",
     "text": [
      "<class 'pandas.core.frame.DataFrame'>\n",
      "Int64Index: 8158 entries, 0 to 8157\n",
      "Data columns (total 28 columns):\n",
      " #   Column                         Non-Null Count  Dtype   \n",
      "---  ------                         --------------  -----   \n",
      " 0   category                       8158 non-null   object  \n",
      " 1   species                        8158 non-null   object  \n",
      " 2   waterbody                      8158 non-null   object  \n",
      " 3   lake                           8158 non-null   object  \n",
      " 4   merge                          8158 non-null   object  \n",
      " 5   datetime                       8158 non-null   object  \n",
      " 6   date caught                    8158 non-null   object  \n",
      " 7   time caught                    8158 non-null   object  \n",
      " 8   year                           8158 non-null   int64   \n",
      " 9   weight lbs                     8158 non-null   float64 \n",
      " 10  length in                      8158 non-null   float64 \n",
      " 11  method                         8158 non-null   object  \n",
      " 12  bait                           8158 non-null   object  \n",
      " 13  angler name                    8158 non-null   object  \n",
      " 14  city                           8158 non-null   object  \n",
      " 15  state                          8158 non-null   object  \n",
      " 16  time hour caught               8158 non-null   int64   \n",
      " 17  state minimum length (inches)  8158 non-null   float64 \n",
      " 18  state record in pounds         8158 non-null   float64 \n",
      " 19  number_stocked                 8158 non-null   int64   \n",
      " 20  Average of CAL_Num/m3          7000 non-null   float64 \n",
      " 21  Average of CALIM_Num/m3        7000 non-null   float64 \n",
      " 22  Average of CYC_Num/m3          7000 non-null   float64 \n",
      " 23  Average of CYCIM_Num/m3        7000 non-null   float64 \n",
      " 24  Average of DAP_Num/m3          7000 non-null   float64 \n",
      " 25  Average of NDAP_Num/m3         7000 non-null   float64 \n",
      " 26  Average of PRED_Num/m3         7000 non-null   float64 \n",
      " 27  _merge                         8158 non-null   category\n",
      "dtypes: category(1), float64(11), int64(3), object(13)\n",
      "memory usage: 1.8+ MB\n"
     ]
    }
   ],
   "source": [
    "df_merged.info()"
   ]
  },
  {
   "cell_type": "code",
   "execution_count": 12,
   "id": "59c0b724",
   "metadata": {},
   "outputs": [
    {
     "data": {
      "text/html": [
       "<div>\n",
       "<style scoped>\n",
       "    .dataframe tbody tr th:only-of-type {\n",
       "        vertical-align: middle;\n",
       "    }\n",
       "\n",
       "    .dataframe tbody tr th {\n",
       "        vertical-align: top;\n",
       "    }\n",
       "\n",
       "    .dataframe thead th {\n",
       "        text-align: right;\n",
       "    }\n",
       "</style>\n",
       "<table border=\"1\" class=\"dataframe\">\n",
       "  <thead>\n",
       "    <tr style=\"text-align: right;\">\n",
       "      <th></th>\n",
       "      <th>category</th>\n",
       "      <th>species</th>\n",
       "      <th>waterbody</th>\n",
       "      <th>lake</th>\n",
       "      <th>merge</th>\n",
       "      <th>datetime</th>\n",
       "      <th>date caught</th>\n",
       "      <th>time caught</th>\n",
       "      <th>year</th>\n",
       "      <th>weight lbs</th>\n",
       "      <th>...</th>\n",
       "      <th>state record in pounds</th>\n",
       "      <th>number_stocked</th>\n",
       "      <th>Average of CAL_Num/m3</th>\n",
       "      <th>Average of CALIM_Num/m3</th>\n",
       "      <th>Average of CYC_Num/m3</th>\n",
       "      <th>Average of CYCIM_Num/m3</th>\n",
       "      <th>Average of DAP_Num/m3</th>\n",
       "      <th>Average of NDAP_Num/m3</th>\n",
       "      <th>Average of PRED_Num/m3</th>\n",
       "      <th>_merge</th>\n",
       "    </tr>\n",
       "  </thead>\n",
       "  <tbody>\n",
       "    <tr>\n",
       "      <th>0</th>\n",
       "      <td>Catch and Keep</td>\n",
       "      <td>atlantic salmon</td>\n",
       "      <td>Lake Huron</td>\n",
       "      <td>HU</td>\n",
       "      <td>lk_huron</td>\n",
       "      <td>7/4/1994 12:30</td>\n",
       "      <td>7/4/1994</td>\n",
       "      <td>12:30:00</td>\n",
       "      <td>1994</td>\n",
       "      <td>13.31</td>\n",
       "      <td>...</td>\n",
       "      <td>32.63</td>\n",
       "      <td>39074</td>\n",
       "      <td>NaN</td>\n",
       "      <td>NaN</td>\n",
       "      <td>NaN</td>\n",
       "      <td>NaN</td>\n",
       "      <td>NaN</td>\n",
       "      <td>NaN</td>\n",
       "      <td>NaN</td>\n",
       "      <td>left_only</td>\n",
       "    </tr>\n",
       "    <tr>\n",
       "      <th>1</th>\n",
       "      <td>Catch and Keep</td>\n",
       "      <td>brown trout</td>\n",
       "      <td>Lake Huron</td>\n",
       "      <td>HU</td>\n",
       "      <td>lk_huron</td>\n",
       "      <td>8/10/1994 9:00</td>\n",
       "      <td>8/10/1994</td>\n",
       "      <td>9:00:00</td>\n",
       "      <td>1994</td>\n",
       "      <td>19.31</td>\n",
       "      <td>...</td>\n",
       "      <td>41.45</td>\n",
       "      <td>2411757</td>\n",
       "      <td>NaN</td>\n",
       "      <td>NaN</td>\n",
       "      <td>NaN</td>\n",
       "      <td>NaN</td>\n",
       "      <td>NaN</td>\n",
       "      <td>NaN</td>\n",
       "      <td>NaN</td>\n",
       "      <td>left_only</td>\n",
       "    </tr>\n",
       "    <tr>\n",
       "      <th>2</th>\n",
       "      <td>Catch and Keep</td>\n",
       "      <td>chinook salmon</td>\n",
       "      <td>Lake Huron</td>\n",
       "      <td>HU</td>\n",
       "      <td>lk_huron</td>\n",
       "      <td>7/24/1994 15:45</td>\n",
       "      <td>7/24/1994</td>\n",
       "      <td>15:45:00</td>\n",
       "      <td>1994</td>\n",
       "      <td>27.75</td>\n",
       "      <td>...</td>\n",
       "      <td>47.54</td>\n",
       "      <td>7435405</td>\n",
       "      <td>NaN</td>\n",
       "      <td>NaN</td>\n",
       "      <td>NaN</td>\n",
       "      <td>NaN</td>\n",
       "      <td>NaN</td>\n",
       "      <td>NaN</td>\n",
       "      <td>NaN</td>\n",
       "      <td>left_only</td>\n",
       "    </tr>\n",
       "    <tr>\n",
       "      <th>3</th>\n",
       "      <td>Catch and Keep</td>\n",
       "      <td>round whitefish-menomine</td>\n",
       "      <td>Lake Huron</td>\n",
       "      <td>HU</td>\n",
       "      <td>lk_huron</td>\n",
       "      <td>3/21/1994 14:45</td>\n",
       "      <td>3/21/1994</td>\n",
       "      <td>14:45:00</td>\n",
       "      <td>1994</td>\n",
       "      <td>1.25</td>\n",
       "      <td>...</td>\n",
       "      <td>4.00</td>\n",
       "      <td>0</td>\n",
       "      <td>NaN</td>\n",
       "      <td>NaN</td>\n",
       "      <td>NaN</td>\n",
       "      <td>NaN</td>\n",
       "      <td>NaN</td>\n",
       "      <td>NaN</td>\n",
       "      <td>NaN</td>\n",
       "      <td>left_only</td>\n",
       "    </tr>\n",
       "    <tr>\n",
       "      <th>4</th>\n",
       "      <td>Catch and Keep</td>\n",
       "      <td>lake trout</td>\n",
       "      <td>Lake Superior</td>\n",
       "      <td>SU</td>\n",
       "      <td>lk_sup</td>\n",
       "      <td>7/6/1994 9:00</td>\n",
       "      <td>7/6/1994</td>\n",
       "      <td>9:00:00</td>\n",
       "      <td>1994</td>\n",
       "      <td>34.50</td>\n",
       "      <td>...</td>\n",
       "      <td>61.50</td>\n",
       "      <td>5011563</td>\n",
       "      <td>NaN</td>\n",
       "      <td>NaN</td>\n",
       "      <td>NaN</td>\n",
       "      <td>NaN</td>\n",
       "      <td>NaN</td>\n",
       "      <td>NaN</td>\n",
       "      <td>NaN</td>\n",
       "      <td>left_only</td>\n",
       "    </tr>\n",
       "  </tbody>\n",
       "</table>\n",
       "<p>5 rows × 28 columns</p>\n",
       "</div>"
      ],
      "text/plain": [
       "         category                   species      waterbody lake     merge  \\\n",
       "0  Catch and Keep           atlantic salmon     Lake Huron   HU  lk_huron   \n",
       "1  Catch and Keep               brown trout     Lake Huron   HU  lk_huron   \n",
       "2  Catch and Keep            chinook salmon     Lake Huron   HU  lk_huron   \n",
       "3  Catch and Keep  round whitefish-menomine     Lake Huron   HU  lk_huron   \n",
       "4  Catch and Keep                lake trout  Lake Superior   SU    lk_sup   \n",
       "\n",
       "          datetime date caught time caught  year  weight lbs  ...  \\\n",
       "0   7/4/1994 12:30    7/4/1994    12:30:00  1994       13.31  ...   \n",
       "1   8/10/1994 9:00   8/10/1994     9:00:00  1994       19.31  ...   \n",
       "2  7/24/1994 15:45   7/24/1994    15:45:00  1994       27.75  ...   \n",
       "3  3/21/1994 14:45   3/21/1994    14:45:00  1994        1.25  ...   \n",
       "4    7/6/1994 9:00    7/6/1994     9:00:00  1994       34.50  ...   \n",
       "\n",
       "   state record in pounds number_stocked Average of CAL_Num/m3  \\\n",
       "0                   32.63          39074                   NaN   \n",
       "1                   41.45        2411757                   NaN   \n",
       "2                   47.54        7435405                   NaN   \n",
       "3                    4.00              0                   NaN   \n",
       "4                   61.50        5011563                   NaN   \n",
       "\n",
       "  Average of CALIM_Num/m3 Average of CYC_Num/m3 Average of CYCIM_Num/m3  \\\n",
       "0                     NaN                   NaN                     NaN   \n",
       "1                     NaN                   NaN                     NaN   \n",
       "2                     NaN                   NaN                     NaN   \n",
       "3                     NaN                   NaN                     NaN   \n",
       "4                     NaN                   NaN                     NaN   \n",
       "\n",
       "   Average of DAP_Num/m3  Average of NDAP_Num/m3  Average of PRED_Num/m3  \\\n",
       "0                    NaN                     NaN                     NaN   \n",
       "1                    NaN                     NaN                     NaN   \n",
       "2                    NaN                     NaN                     NaN   \n",
       "3                    NaN                     NaN                     NaN   \n",
       "4                    NaN                     NaN                     NaN   \n",
       "\n",
       "      _merge  \n",
       "0  left_only  \n",
       "1  left_only  \n",
       "2  left_only  \n",
       "3  left_only  \n",
       "4  left_only  \n",
       "\n",
       "[5 rows x 28 columns]"
      ]
     },
     "execution_count": 12,
     "metadata": {},
     "output_type": "execute_result"
    }
   ],
   "source": [
    "df_merged.head()"
   ]
  },
  {
   "cell_type": "markdown",
   "id": "694aa4ea",
   "metadata": {},
   "source": [
    "#as mentioned above, zooplankton begins in 1997, so there will be lots of null values"
   ]
  },
  {
   "cell_type": "code",
   "execution_count": 13,
   "id": "cc9ba30b",
   "metadata": {},
   "outputs": [
    {
     "data": {
      "text/plain": [
       "(8158, 28)"
      ]
     },
     "execution_count": 13,
     "metadata": {},
     "output_type": "execute_result"
    }
   ],
   "source": [
    "df_merged.shape"
   ]
  },
  {
   "cell_type": "code",
   "execution_count": 14,
   "id": "eac918bd",
   "metadata": {},
   "outputs": [
    {
     "data": {
      "text/plain": [
       "both          7000\n",
       "left_only     1158\n",
       "right_only       0\n",
       "Name: _merge, dtype: int64"
      ]
     },
     "execution_count": 14,
     "metadata": {},
     "output_type": "execute_result"
    }
   ],
   "source": [
    "# checking the rows merged on species\n",
    "df_merged['_merge'].value_counts()"
   ]
  },
  {
   "cell_type": "code",
   "execution_count": 15,
   "id": "9bafefdd",
   "metadata": {},
   "outputs": [
    {
     "data": {
      "text/plain": [
       "category                            0\n",
       "species                             0\n",
       "waterbody                           0\n",
       "lake                                0\n",
       "merge                               0\n",
       "datetime                            0\n",
       "date caught                         0\n",
       "time caught                         0\n",
       "year                                0\n",
       "weight lbs                          0\n",
       "length in                           0\n",
       "method                              0\n",
       "bait                                0\n",
       "angler name                         0\n",
       "city                                0\n",
       "state                               0\n",
       "time hour caught                    0\n",
       "state minimum length (inches)       0\n",
       "state record in pounds              0\n",
       "number_stocked                      0\n",
       "Average of CAL_Num/m3            1158\n",
       "Average of CALIM_Num/m3          1158\n",
       "Average of CYC_Num/m3            1158\n",
       "Average of CYCIM_Num/m3          1158\n",
       "Average of DAP_Num/m3            1158\n",
       "Average of NDAP_Num/m3           1158\n",
       "Average of PRED_Num/m3           1158\n",
       "_merge                              0\n",
       "dtype: int64"
      ]
     },
     "execution_count": 15,
     "metadata": {},
     "output_type": "execute_result"
    }
   ],
   "source": [
    "#seeing where data is missing\n",
    "df_merged.isnull().sum()"
   ]
  },
  {
   "cell_type": "code",
   "execution_count": 16,
   "id": "abda9fcb",
   "metadata": {},
   "outputs": [],
   "source": [
    "#dropping the rows with null values\n",
    "df_merged = df_merged.dropna()"
   ]
  },
  {
   "cell_type": "code",
   "execution_count": 17,
   "id": "6c3ae2da",
   "metadata": {},
   "outputs": [
    {
     "data": {
      "text/plain": [
       "both          7000\n",
       "left_only        0\n",
       "right_only       0\n",
       "Name: _merge, dtype: int64"
      ]
     },
     "execution_count": 17,
     "metadata": {},
     "output_type": "execute_result"
    }
   ],
   "source": [
    "#checking results\n",
    "# checking the rows merged on species\n",
    "df_merged['_merge'].value_counts()"
   ]
  },
  {
   "cell_type": "code",
   "execution_count": 18,
   "id": "679f3841",
   "metadata": {},
   "outputs": [
    {
     "data": {
      "text/plain": [
       "category                         0\n",
       "species                          0\n",
       "waterbody                        0\n",
       "lake                             0\n",
       "merge                            0\n",
       "datetime                         0\n",
       "date caught                      0\n",
       "time caught                      0\n",
       "year                             0\n",
       "weight lbs                       0\n",
       "length in                        0\n",
       "method                           0\n",
       "bait                             0\n",
       "angler name                      0\n",
       "city                             0\n",
       "state                            0\n",
       "time hour caught                 0\n",
       "state minimum length (inches)    0\n",
       "state record in pounds           0\n",
       "number_stocked                   0\n",
       "Average of CAL_Num/m3            0\n",
       "Average of CALIM_Num/m3          0\n",
       "Average of CYC_Num/m3            0\n",
       "Average of CYCIM_Num/m3          0\n",
       "Average of DAP_Num/m3            0\n",
       "Average of NDAP_Num/m3           0\n",
       "Average of PRED_Num/m3           0\n",
       "_merge                           0\n",
       "dtype: int64"
      ]
     },
     "execution_count": 18,
     "metadata": {},
     "output_type": "execute_result"
    }
   ],
   "source": [
    "#there should not be any null\n",
    "#seeing where data is missing\n",
    "df_merged.isnull().sum()"
   ]
  },
  {
   "cell_type": "code",
   "execution_count": 19,
   "id": "f36c2c72",
   "metadata": {},
   "outputs": [
    {
     "name": "stderr",
     "output_type": "stream",
     "text": [
      "C:\\Users\\Selena\\AppData\\Local\\Temp\\ipykernel_684\\2754851167.py:2: FutureWarning: In a future version of pandas all arguments of DataFrame.drop except for the argument 'labels' will be keyword-only.\n",
      "  df_merged = df_merged.drop('_merge', 1)\n"
     ]
    }
   ],
   "source": [
    "#Need to drop _merge\n",
    "df_merged = df_merged.drop('_merge', 1)"
   ]
  },
  {
   "cell_type": "code",
   "execution_count": 20,
   "id": "a9e8a724",
   "metadata": {},
   "outputs": [
    {
     "name": "stderr",
     "output_type": "stream",
     "text": [
      "C:\\Users\\Selena\\AppData\\Local\\Temp\\ipykernel_684\\3935174381.py:2: FutureWarning: In a future version of pandas all arguments of DataFrame.drop except for the argument 'labels' will be keyword-only.\n",
      "  df_merged = df_merged.drop('angler name', 1)\n"
     ]
    }
   ],
   "source": [
    "#Need to drop angler's name for privacy reasons\n",
    "df_merged = df_merged.drop('angler name', 1)"
   ]
  },
  {
   "cell_type": "code",
   "execution_count": 21,
   "id": "92af8d61",
   "metadata": {},
   "outputs": [
    {
     "name": "stderr",
     "output_type": "stream",
     "text": [
      "C:\\Users\\Selena\\AppData\\Local\\Temp\\ipykernel_684\\2995028080.py:2: FutureWarning: In a future version of pandas all arguments of DataFrame.drop except for the argument 'labels' will be keyword-only.\n",
      "  df_merged = df_merged.drop('city', 1)\n"
     ]
    }
   ],
   "source": [
    "#I do not need other columns of data\n",
    "df_merged = df_merged.drop('city', 1)"
   ]
  },
  {
   "cell_type": "code",
   "execution_count": 22,
   "id": "ffd5255c",
   "metadata": {},
   "outputs": [
    {
     "name": "stderr",
     "output_type": "stream",
     "text": [
      "C:\\Users\\Selena\\AppData\\Local\\Temp\\ipykernel_684\\1836855332.py:2: FutureWarning: In a future version of pandas all arguments of DataFrame.drop except for the argument 'labels' will be keyword-only.\n",
      "  df_merged = df_merged.drop('state', 1)\n"
     ]
    }
   ],
   "source": [
    "#I do not need other columns of data\n",
    "df_merged = df_merged.drop('state', 1)"
   ]
  },
  {
   "cell_type": "code",
   "execution_count": 23,
   "id": "0feb97c0",
   "metadata": {},
   "outputs": [
    {
     "name": "stderr",
     "output_type": "stream",
     "text": [
      "C:\\Users\\Selena\\AppData\\Local\\Temp\\ipykernel_684\\1356983222.py:2: FutureWarning: In a future version of pandas all arguments of DataFrame.drop except for the argument 'labels' will be keyword-only.\n",
      "  df_merged = df_merged.drop('state record in pounds', 1)\n"
     ]
    }
   ],
   "source": [
    "#I do not need other columns of data\n",
    "df_merged = df_merged.drop('state record in pounds', 1)"
   ]
  },
  {
   "cell_type": "code",
   "execution_count": 24,
   "id": "bb9d3194",
   "metadata": {},
   "outputs": [
    {
     "name": "stdout",
     "output_type": "stream",
     "text": [
      "<class 'pandas.core.frame.DataFrame'>\n",
      "Int64Index: 7000 entries, 1158 to 8157\n",
      "Data columns (total 23 columns):\n",
      " #   Column                         Non-Null Count  Dtype  \n",
      "---  ------                         --------------  -----  \n",
      " 0   category                       7000 non-null   object \n",
      " 1   species                        7000 non-null   object \n",
      " 2   waterbody                      7000 non-null   object \n",
      " 3   lake                           7000 non-null   object \n",
      " 4   merge                          7000 non-null   object \n",
      " 5   datetime                       7000 non-null   object \n",
      " 6   date caught                    7000 non-null   object \n",
      " 7   time caught                    7000 non-null   object \n",
      " 8   year                           7000 non-null   int64  \n",
      " 9   weight lbs                     7000 non-null   float64\n",
      " 10  length in                      7000 non-null   float64\n",
      " 11  method                         7000 non-null   object \n",
      " 12  bait                           7000 non-null   object \n",
      " 13  time hour caught               7000 non-null   int64  \n",
      " 14  state minimum length (inches)  7000 non-null   float64\n",
      " 15  number_stocked                 7000 non-null   int64  \n",
      " 16  Average of CAL_Num/m3          7000 non-null   float64\n",
      " 17  Average of CALIM_Num/m3        7000 non-null   float64\n",
      " 18  Average of CYC_Num/m3          7000 non-null   float64\n",
      " 19  Average of CYCIM_Num/m3        7000 non-null   float64\n",
      " 20  Average of DAP_Num/m3          7000 non-null   float64\n",
      " 21  Average of NDAP_Num/m3         7000 non-null   float64\n",
      " 22  Average of PRED_Num/m3         7000 non-null   float64\n",
      "dtypes: float64(10), int64(3), object(10)\n",
      "memory usage: 1.3+ MB\n"
     ]
    }
   ],
   "source": [
    "df_merged.info()"
   ]
  },
  {
   "cell_type": "code",
   "execution_count": 25,
   "id": "beeb3f10",
   "metadata": {},
   "outputs": [
    {
     "data": {
      "text/html": [
       "<div>\n",
       "<style scoped>\n",
       "    .dataframe tbody tr th:only-of-type {\n",
       "        vertical-align: middle;\n",
       "    }\n",
       "\n",
       "    .dataframe tbody tr th {\n",
       "        vertical-align: top;\n",
       "    }\n",
       "\n",
       "    .dataframe thead th {\n",
       "        text-align: right;\n",
       "    }\n",
       "</style>\n",
       "<table border=\"1\" class=\"dataframe\">\n",
       "  <thead>\n",
       "    <tr style=\"text-align: right;\">\n",
       "      <th></th>\n",
       "      <th>year</th>\n",
       "      <th>weight lbs</th>\n",
       "      <th>length in</th>\n",
       "      <th>time hour caught</th>\n",
       "      <th>state minimum length (inches)</th>\n",
       "      <th>number_stocked</th>\n",
       "      <th>Average of CAL_Num/m3</th>\n",
       "      <th>Average of CALIM_Num/m3</th>\n",
       "      <th>Average of CYC_Num/m3</th>\n",
       "      <th>Average of CYCIM_Num/m3</th>\n",
       "      <th>Average of DAP_Num/m3</th>\n",
       "      <th>Average of NDAP_Num/m3</th>\n",
       "      <th>Average of PRED_Num/m3</th>\n",
       "    </tr>\n",
       "  </thead>\n",
       "  <tbody>\n",
       "    <tr>\n",
       "      <th>count</th>\n",
       "      <td>7000.000000</td>\n",
       "      <td>7000.000000</td>\n",
       "      <td>7000.000000</td>\n",
       "      <td>7000.000000</td>\n",
       "      <td>7000.000000</td>\n",
       "      <td>7.000000e+03</td>\n",
       "      <td>7000.000000</td>\n",
       "      <td>7000.000000</td>\n",
       "      <td>7000.000000</td>\n",
       "      <td>7000.000000</td>\n",
       "      <td>7000.000000</td>\n",
       "      <td>7000.000000</td>\n",
       "      <td>7000.000000</td>\n",
       "    </tr>\n",
       "    <tr>\n",
       "      <th>mean</th>\n",
       "      <td>2007.486429</td>\n",
       "      <td>14.616181</td>\n",
       "      <td>29.387260</td>\n",
       "      <td>11.878571</td>\n",
       "      <td>27.104429</td>\n",
       "      <td>3.080207e+06</td>\n",
       "      <td>1317.701046</td>\n",
       "      <td>2232.845123</td>\n",
       "      <td>694.291254</td>\n",
       "      <td>1770.782721</td>\n",
       "      <td>881.139392</td>\n",
       "      <td>1373.161892</td>\n",
       "      <td>16.827235</td>\n",
       "    </tr>\n",
       "    <tr>\n",
       "      <th>std</th>\n",
       "      <td>7.894383</td>\n",
       "      <td>9.970568</td>\n",
       "      <td>9.446098</td>\n",
       "      <td>4.484559</td>\n",
       "      <td>9.114398</td>\n",
       "      <td>5.186562e+06</td>\n",
       "      <td>632.314800</td>\n",
       "      <td>1262.088113</td>\n",
       "      <td>704.155595</td>\n",
       "      <td>1865.381490</td>\n",
       "      <td>1072.815483</td>\n",
       "      <td>2224.956308</td>\n",
       "      <td>34.605038</td>\n",
       "    </tr>\n",
       "    <tr>\n",
       "      <th>min</th>\n",
       "      <td>1997.000000</td>\n",
       "      <td>0.550000</td>\n",
       "      <td>9.000000</td>\n",
       "      <td>0.000000</td>\n",
       "      <td>9.000000</td>\n",
       "      <td>0.000000e+00</td>\n",
       "      <td>330.140975</td>\n",
       "      <td>384.886765</td>\n",
       "      <td>8.816564</td>\n",
       "      <td>5.705120</td>\n",
       "      <td>1.901214</td>\n",
       "      <td>0.931714</td>\n",
       "      <td>0.002808</td>\n",
       "    </tr>\n",
       "    <tr>\n",
       "      <th>25%</th>\n",
       "      <td>2000.000000</td>\n",
       "      <td>5.660000</td>\n",
       "      <td>21.500000</td>\n",
       "      <td>9.000000</td>\n",
       "      <td>21.000000</td>\n",
       "      <td>4.124000e+03</td>\n",
       "      <td>739.774662</td>\n",
       "      <td>1427.386371</td>\n",
       "      <td>182.636555</td>\n",
       "      <td>409.625591</td>\n",
       "      <td>44.702732</td>\n",
       "      <td>68.434136</td>\n",
       "      <td>2.040974</td>\n",
       "    </tr>\n",
       "    <tr>\n",
       "      <th>50%</th>\n",
       "      <td>2006.000000</td>\n",
       "      <td>13.555000</td>\n",
       "      <td>31.000000</td>\n",
       "      <td>11.000000</td>\n",
       "      <td>29.000000</td>\n",
       "      <td>1.785240e+06</td>\n",
       "      <td>1201.399810</td>\n",
       "      <td>1932.016179</td>\n",
       "      <td>433.719238</td>\n",
       "      <td>995.842442</td>\n",
       "      <td>540.658070</td>\n",
       "      <td>186.287561</td>\n",
       "      <td>2.918503</td>\n",
       "    </tr>\n",
       "    <tr>\n",
       "      <th>75%</th>\n",
       "      <td>2016.000000</td>\n",
       "      <td>22.980000</td>\n",
       "      <td>37.500000</td>\n",
       "      <td>15.000000</td>\n",
       "      <td>34.000000</td>\n",
       "      <td>3.739410e+06</td>\n",
       "      <td>1802.906656</td>\n",
       "      <td>2365.838072</td>\n",
       "      <td>1227.695068</td>\n",
       "      <td>3299.669777</td>\n",
       "      <td>1446.807710</td>\n",
       "      <td>2081.093924</td>\n",
       "      <td>12.781198</td>\n",
       "    </tr>\n",
       "    <tr>\n",
       "      <th>max</th>\n",
       "      <td>2019.000000</td>\n",
       "      <td>61.500000</td>\n",
       "      <td>51.000000</td>\n",
       "      <td>23.000000</td>\n",
       "      <td>40.000000</td>\n",
       "      <td>3.004285e+07</td>\n",
       "      <td>3385.871653</td>\n",
       "      <td>7280.416973</td>\n",
       "      <td>4084.126789</td>\n",
       "      <td>17017.671670</td>\n",
       "      <td>9012.268970</td>\n",
       "      <td>11139.410760</td>\n",
       "      <td>266.657652</td>\n",
       "    </tr>\n",
       "  </tbody>\n",
       "</table>\n",
       "</div>"
      ],
      "text/plain": [
       "              year   weight lbs    length in  time hour caught  \\\n",
       "count  7000.000000  7000.000000  7000.000000       7000.000000   \n",
       "mean   2007.486429    14.616181    29.387260         11.878571   \n",
       "std       7.894383     9.970568     9.446098          4.484559   \n",
       "min    1997.000000     0.550000     9.000000          0.000000   \n",
       "25%    2000.000000     5.660000    21.500000          9.000000   \n",
       "50%    2006.000000    13.555000    31.000000         11.000000   \n",
       "75%    2016.000000    22.980000    37.500000         15.000000   \n",
       "max    2019.000000    61.500000    51.000000         23.000000   \n",
       "\n",
       "       state minimum length (inches)  number_stocked  Average of CAL_Num/m3  \\\n",
       "count                    7000.000000    7.000000e+03            7000.000000   \n",
       "mean                       27.104429    3.080207e+06            1317.701046   \n",
       "std                         9.114398    5.186562e+06             632.314800   \n",
       "min                         9.000000    0.000000e+00             330.140975   \n",
       "25%                        21.000000    4.124000e+03             739.774662   \n",
       "50%                        29.000000    1.785240e+06            1201.399810   \n",
       "75%                        34.000000    3.739410e+06            1802.906656   \n",
       "max                        40.000000    3.004285e+07            3385.871653   \n",
       "\n",
       "       Average of CALIM_Num/m3  Average of CYC_Num/m3  \\\n",
       "count              7000.000000            7000.000000   \n",
       "mean               2232.845123             694.291254   \n",
       "std                1262.088113             704.155595   \n",
       "min                 384.886765               8.816564   \n",
       "25%                1427.386371             182.636555   \n",
       "50%                1932.016179             433.719238   \n",
       "75%                2365.838072            1227.695068   \n",
       "max                7280.416973            4084.126789   \n",
       "\n",
       "       Average of CYCIM_Num/m3  Average of DAP_Num/m3  Average of NDAP_Num/m3  \\\n",
       "count              7000.000000            7000.000000             7000.000000   \n",
       "mean               1770.782721             881.139392             1373.161892   \n",
       "std                1865.381490            1072.815483             2224.956308   \n",
       "min                   5.705120               1.901214                0.931714   \n",
       "25%                 409.625591              44.702732               68.434136   \n",
       "50%                 995.842442             540.658070              186.287561   \n",
       "75%                3299.669777            1446.807710             2081.093924   \n",
       "max               17017.671670            9012.268970            11139.410760   \n",
       "\n",
       "       Average of PRED_Num/m3  \n",
       "count             7000.000000  \n",
       "mean                16.827235  \n",
       "std                 34.605038  \n",
       "min                  0.002808  \n",
       "25%                  2.040974  \n",
       "50%                  2.918503  \n",
       "75%                 12.781198  \n",
       "max                266.657652  "
      ]
     },
     "execution_count": 25,
     "metadata": {},
     "output_type": "execute_result"
    }
   ],
   "source": [
    "df_merged.describe()"
   ]
  },
  {
   "cell_type": "markdown",
   "id": "6ebde8a5",
   "metadata": {},
   "source": [
    "#this makes sense. The year minimum should have been 1997 and it should have gone to 2019"
   ]
  },
  {
   "cell_type": "markdown",
   "id": "62c43539",
   "metadata": {},
   "source": [
    "# Exporting the new dataframe"
   ]
  },
  {
   "cell_type": "code",
   "execution_count": 26,
   "id": "71014c1c",
   "metadata": {},
   "outputs": [],
   "source": [
    "#exporting the merged anglers/state minimum requirements/stocking/zooplankton as a csv\n",
    "df_merged.to_csv(os.path.join(path, '02 Data','Prepared', 'anglers_size_stocking_plankton_combined.csv'))"
   ]
  },
  {
   "cell_type": "code",
   "execution_count": null,
   "id": "767d9b14",
   "metadata": {},
   "outputs": [],
   "source": []
  }
 ],
 "metadata": {
  "kernelspec": {
   "display_name": "Python 3 (ipykernel)",
   "language": "python",
   "name": "python3"
  },
  "language_info": {
   "codemirror_mode": {
    "name": "ipython",
    "version": 3
   },
   "file_extension": ".py",
   "mimetype": "text/x-python",
   "name": "python",
   "nbconvert_exporter": "python",
   "pygments_lexer": "ipython3",
   "version": "3.9.12"
  }
 },
 "nbformat": 4,
 "nbformat_minor": 5
}
