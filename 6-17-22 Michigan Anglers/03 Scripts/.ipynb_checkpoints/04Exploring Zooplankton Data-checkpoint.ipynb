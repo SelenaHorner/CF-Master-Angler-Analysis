{
 "cells": [
  {
   "cell_type": "markdown",
   "id": "d49c7502",
   "metadata": {},
   "source": [
    "# Summary of Notebook\n",
    "### 115 records; no missing values or duplicate rows\n",
    "### year ranged from 1997 to 2019"
   ]
  },
  {
   "cell_type": "markdown",
   "id": "d4151ab8",
   "metadata": {},
   "source": [
    "# Importing libraries"
   ]
  },
  {
   "cell_type": "code",
   "execution_count": 1,
   "id": "e593b803",
   "metadata": {},
   "outputs": [],
   "source": [
    "#importing libraries\n",
    "import pandas as pd\n",
    "import numpy as np\n",
    "import os\n",
    "import matplotlib.pyplot as plt\n",
    "import seaborn as sns\n",
    "import scipy\n",
    "import datetime as dt"
   ]
  },
  {
   "cell_type": "markdown",
   "id": "4c3d869a",
   "metadata": {},
   "source": [
    "# Importing dataframe"
   ]
  },
  {
   "cell_type": "code",
   "execution_count": 2,
   "id": "add33842",
   "metadata": {},
   "outputs": [],
   "source": [
    "#import csv zooplankton dataframe\n",
    "df_plankton = pd.read_csv(r'C:\\Users\\Selena\\Desktop\\6-17-22 Michigan Anglers\\02 Data\\Original\\4zooplankton.csv')\n",
    "path = r'C:\\Users\\Selena\\Desktop\\6-17-22 Michigan Anglers'\n",
    "df_plankton = pd.read_csv(os.path.join(path, '02 Data', 'Original', '4zooplankton.csv'))"
   ]
  },
  {
   "cell_type": "markdown",
   "id": "36f2b5b7",
   "metadata": {},
   "source": [
    "# Checking out the dataframe"
   ]
  },
  {
   "cell_type": "code",
   "execution_count": 3,
   "id": "5156834a",
   "metadata": {},
   "outputs": [
    {
     "data": {
      "text/plain": [
       "(115, 9)"
      ]
     },
     "execution_count": 3,
     "metadata": {},
     "output_type": "execute_result"
    }
   ],
   "source": [
    "df_plankton.shape"
   ]
  },
  {
   "cell_type": "code",
   "execution_count": 4,
   "id": "920ee19f",
   "metadata": {},
   "outputs": [
    {
     "data": {
      "text/html": [
       "<div>\n",
       "<style scoped>\n",
       "    .dataframe tbody tr th:only-of-type {\n",
       "        vertical-align: middle;\n",
       "    }\n",
       "\n",
       "    .dataframe tbody tr th {\n",
       "        vertical-align: top;\n",
       "    }\n",
       "\n",
       "    .dataframe thead th {\n",
       "        text-align: right;\n",
       "    }\n",
       "</style>\n",
       "<table border=\"1\" class=\"dataframe\">\n",
       "  <thead>\n",
       "    <tr style=\"text-align: right;\">\n",
       "      <th></th>\n",
       "      <th>year</th>\n",
       "      <th>lake</th>\n",
       "      <th>Average of CAL_Num/m3</th>\n",
       "      <th>Average of CALIM_Num/m3</th>\n",
       "      <th>Average of CYC_Num/m3</th>\n",
       "      <th>Average of CYCIM_Num/m3</th>\n",
       "      <th>Average of DAP_Num/m3</th>\n",
       "      <th>Average of NDAP_Num/m3</th>\n",
       "      <th>Average of PRED_Num/m3</th>\n",
       "    </tr>\n",
       "  </thead>\n",
       "  <tbody>\n",
       "    <tr>\n",
       "      <th>0</th>\n",
       "      <td>1997</td>\n",
       "      <td>ER</td>\n",
       "      <td>1332.809714</td>\n",
       "      <td>3149.196423</td>\n",
       "      <td>4084.126789</td>\n",
       "      <td>17017.671670</td>\n",
       "      <td>9012.268970</td>\n",
       "      <td>11139.410760</td>\n",
       "      <td>266.657652</td>\n",
       "    </tr>\n",
       "    <tr>\n",
       "      <th>1</th>\n",
       "      <td>1997</td>\n",
       "      <td>HU</td>\n",
       "      <td>1361.952076</td>\n",
       "      <td>4339.344804</td>\n",
       "      <td>612.466614</td>\n",
       "      <td>2576.439124</td>\n",
       "      <td>2191.528796</td>\n",
       "      <td>843.755676</td>\n",
       "      <td>8.010978</td>\n",
       "    </tr>\n",
       "    <tr>\n",
       "      <th>2</th>\n",
       "      <td>1997</td>\n",
       "      <td>MI</td>\n",
       "      <td>1323.460662</td>\n",
       "      <td>1967.527733</td>\n",
       "      <td>28.180589</td>\n",
       "      <td>547.761124</td>\n",
       "      <td>1136.366330</td>\n",
       "      <td>47.963581</td>\n",
       "      <td>8.231177</td>\n",
       "    </tr>\n",
       "    <tr>\n",
       "      <th>3</th>\n",
       "      <td>1997</td>\n",
       "      <td>ON</td>\n",
       "      <td>381.725287</td>\n",
       "      <td>269.146030</td>\n",
       "      <td>3597.992767</td>\n",
       "      <td>10811.518080</td>\n",
       "      <td>1569.926038</td>\n",
       "      <td>18711.798140</td>\n",
       "      <td>8.179508</td>\n",
       "    </tr>\n",
       "    <tr>\n",
       "      <th>4</th>\n",
       "      <td>1997</td>\n",
       "      <td>SU</td>\n",
       "      <td>416.114394</td>\n",
       "      <td>1320.778519</td>\n",
       "      <td>112.298705</td>\n",
       "      <td>558.610950</td>\n",
       "      <td>41.561609</td>\n",
       "      <td>53.417912</td>\n",
       "      <td>0.364413</td>\n",
       "    </tr>\n",
       "  </tbody>\n",
       "</table>\n",
       "</div>"
      ],
      "text/plain": [
       "   year lake  Average of CAL_Num/m3  Average of CALIM_Num/m3  \\\n",
       "0  1997   ER            1332.809714              3149.196423   \n",
       "1  1997   HU            1361.952076              4339.344804   \n",
       "2  1997   MI            1323.460662              1967.527733   \n",
       "3  1997   ON             381.725287               269.146030   \n",
       "4  1997   SU             416.114394              1320.778519   \n",
       "\n",
       "   Average of CYC_Num/m3  Average of CYCIM_Num/m3  Average of DAP_Num/m3  \\\n",
       "0            4084.126789             17017.671670            9012.268970   \n",
       "1             612.466614              2576.439124            2191.528796   \n",
       "2              28.180589               547.761124            1136.366330   \n",
       "3            3597.992767             10811.518080            1569.926038   \n",
       "4             112.298705               558.610950              41.561609   \n",
       "\n",
       "   Average of NDAP_Num/m3  Average of PRED_Num/m3  \n",
       "0            11139.410760              266.657652  \n",
       "1              843.755676                8.010978  \n",
       "2               47.963581                8.231177  \n",
       "3            18711.798140                8.179508  \n",
       "4               53.417912                0.364413  "
      ]
     },
     "execution_count": 4,
     "metadata": {},
     "output_type": "execute_result"
    }
   ],
   "source": [
    "df_plankton.head()"
   ]
  },
  {
   "cell_type": "code",
   "execution_count": 5,
   "id": "5eafa61a",
   "metadata": {},
   "outputs": [
    {
     "name": "stdout",
     "output_type": "stream",
     "text": [
      "<class 'pandas.core.frame.DataFrame'>\n",
      "RangeIndex: 115 entries, 0 to 114\n",
      "Data columns (total 9 columns):\n",
      " #   Column                   Non-Null Count  Dtype  \n",
      "---  ------                   --------------  -----  \n",
      " 0   year                     115 non-null    int64  \n",
      " 1   lake                     115 non-null    object \n",
      " 2   Average of CAL_Num/m3    115 non-null    float64\n",
      " 3   Average of CALIM_Num/m3  115 non-null    float64\n",
      " 4   Average of CYC_Num/m3    115 non-null    float64\n",
      " 5   Average of CYCIM_Num/m3  115 non-null    float64\n",
      " 6   Average of DAP_Num/m3    115 non-null    float64\n",
      " 7   Average of NDAP_Num/m3   115 non-null    float64\n",
      " 8   Average of PRED_Num/m3   115 non-null    float64\n",
      "dtypes: float64(7), int64(1), object(1)\n",
      "memory usage: 8.2+ KB\n"
     ]
    }
   ],
   "source": [
    "df_plankton.info()"
   ]
  },
  {
   "cell_type": "code",
   "execution_count": 7,
   "id": "e05dfa2f",
   "metadata": {},
   "outputs": [
    {
     "data": {
      "text/html": [
       "<div>\n",
       "<style scoped>\n",
       "    .dataframe tbody tr th:only-of-type {\n",
       "        vertical-align: middle;\n",
       "    }\n",
       "\n",
       "    .dataframe tbody tr th {\n",
       "        vertical-align: top;\n",
       "    }\n",
       "\n",
       "    .dataframe thead th {\n",
       "        text-align: right;\n",
       "    }\n",
       "</style>\n",
       "<table border=\"1\" class=\"dataframe\">\n",
       "  <thead>\n",
       "    <tr style=\"text-align: right;\">\n",
       "      <th></th>\n",
       "      <th>year</th>\n",
       "      <th>Average of CAL_Num/m3</th>\n",
       "      <th>Average of CALIM_Num/m3</th>\n",
       "      <th>Average of CYC_Num/m3</th>\n",
       "      <th>Average of CYCIM_Num/m3</th>\n",
       "      <th>Average of DAP_Num/m3</th>\n",
       "      <th>Average of NDAP_Num/m3</th>\n",
       "      <th>Average of PRED_Num/m3</th>\n",
       "    </tr>\n",
       "  </thead>\n",
       "  <tbody>\n",
       "    <tr>\n",
       "      <th>count</th>\n",
       "      <td>115.000000</td>\n",
       "      <td>115.000000</td>\n",
       "      <td>115.000000</td>\n",
       "      <td>115.000000</td>\n",
       "      <td>115.000000</td>\n",
       "      <td>115.000000</td>\n",
       "      <td>115.000000</td>\n",
       "      <td>115.000000</td>\n",
       "    </tr>\n",
       "    <tr>\n",
       "      <th>mean</th>\n",
       "      <td>2008.000000</td>\n",
       "      <td>1018.100078</td>\n",
       "      <td>1662.619380</td>\n",
       "      <td>843.036457</td>\n",
       "      <td>1823.757269</td>\n",
       "      <td>912.324699</td>\n",
       "      <td>1667.251952</td>\n",
       "      <td>32.053232</td>\n",
       "    </tr>\n",
       "    <tr>\n",
       "      <th>std</th>\n",
       "      <td>6.662279</td>\n",
       "      <td>720.797697</td>\n",
       "      <td>1353.982299</td>\n",
       "      <td>1138.909447</td>\n",
       "      <td>2528.871708</td>\n",
       "      <td>1327.332881</td>\n",
       "      <td>2985.375572</td>\n",
       "      <td>47.788991</td>\n",
       "    </tr>\n",
       "    <tr>\n",
       "      <th>min</th>\n",
       "      <td>1997.000000</td>\n",
       "      <td>45.395696</td>\n",
       "      <td>63.732800</td>\n",
       "      <td>8.816564</td>\n",
       "      <td>5.705120</td>\n",
       "      <td>1.901214</td>\n",
       "      <td>0.931714</td>\n",
       "      <td>0.002808</td>\n",
       "    </tr>\n",
       "    <tr>\n",
       "      <th>25%</th>\n",
       "      <td>2002.000000</td>\n",
       "      <td>433.017824</td>\n",
       "      <td>833.027893</td>\n",
       "      <td>176.411168</td>\n",
       "      <td>332.520714</td>\n",
       "      <td>43.472810</td>\n",
       "      <td>73.262598</td>\n",
       "      <td>1.220580</td>\n",
       "    </tr>\n",
       "    <tr>\n",
       "      <th>50%</th>\n",
       "      <td>2008.000000</td>\n",
       "      <td>845.405527</td>\n",
       "      <td>1324.641871</td>\n",
       "      <td>344.312807</td>\n",
       "      <td>730.683461</td>\n",
       "      <td>430.088729</td>\n",
       "      <td>290.769984</td>\n",
       "      <td>3.563898</td>\n",
       "    </tr>\n",
       "    <tr>\n",
       "      <th>75%</th>\n",
       "      <td>2014.000000</td>\n",
       "      <td>1454.155170</td>\n",
       "      <td>2107.046243</td>\n",
       "      <td>1178.587326</td>\n",
       "      <td>2646.976745</td>\n",
       "      <td>1351.316025</td>\n",
       "      <td>2090.572471</td>\n",
       "      <td>51.532434</td>\n",
       "    </tr>\n",
       "    <tr>\n",
       "      <th>max</th>\n",
       "      <td>2019.000000</td>\n",
       "      <td>3385.871653</td>\n",
       "      <td>7280.416973</td>\n",
       "      <td>7937.166994</td>\n",
       "      <td>17017.671670</td>\n",
       "      <td>9012.268970</td>\n",
       "      <td>18711.798140</td>\n",
       "      <td>266.657652</td>\n",
       "    </tr>\n",
       "  </tbody>\n",
       "</table>\n",
       "</div>"
      ],
      "text/plain": [
       "              year  Average of CAL_Num/m3  Average of CALIM_Num/m3  \\\n",
       "count   115.000000             115.000000               115.000000   \n",
       "mean   2008.000000            1018.100078              1662.619380   \n",
       "std       6.662279             720.797697              1353.982299   \n",
       "min    1997.000000              45.395696                63.732800   \n",
       "25%    2002.000000             433.017824               833.027893   \n",
       "50%    2008.000000             845.405527              1324.641871   \n",
       "75%    2014.000000            1454.155170              2107.046243   \n",
       "max    2019.000000            3385.871653              7280.416973   \n",
       "\n",
       "       Average of CYC_Num/m3  Average of CYCIM_Num/m3  Average of DAP_Num/m3  \\\n",
       "count             115.000000               115.000000             115.000000   \n",
       "mean              843.036457              1823.757269             912.324699   \n",
       "std              1138.909447              2528.871708            1327.332881   \n",
       "min                 8.816564                 5.705120               1.901214   \n",
       "25%               176.411168               332.520714              43.472810   \n",
       "50%               344.312807               730.683461             430.088729   \n",
       "75%              1178.587326              2646.976745            1351.316025   \n",
       "max              7937.166994             17017.671670            9012.268970   \n",
       "\n",
       "       Average of NDAP_Num/m3  Average of PRED_Num/m3  \n",
       "count              115.000000              115.000000  \n",
       "mean              1667.251952               32.053232  \n",
       "std               2985.375572               47.788991  \n",
       "min                  0.931714                0.002808  \n",
       "25%                 73.262598                1.220580  \n",
       "50%                290.769984                3.563898  \n",
       "75%               2090.572471               51.532434  \n",
       "max              18711.798140              266.657652  "
      ]
     },
     "execution_count": 7,
     "metadata": {},
     "output_type": "execute_result"
    }
   ],
   "source": [
    "df_plankton.describe()"
   ]
  },
  {
   "cell_type": "code",
   "execution_count": 8,
   "id": "26ea2f83",
   "metadata": {},
   "outputs": [
    {
     "data": {
      "text/plain": [
       "year                       0\n",
       "lake                       0\n",
       "Average of CAL_Num/m3      0\n",
       "Average of CALIM_Num/m3    0\n",
       "Average of CYC_Num/m3      0\n",
       "Average of CYCIM_Num/m3    0\n",
       "Average of DAP_Num/m3      0\n",
       "Average of NDAP_Num/m3     0\n",
       "Average of PRED_Num/m3     0\n",
       "dtype: int64"
      ]
     },
     "execution_count": 8,
     "metadata": {},
     "output_type": "execute_result"
    }
   ],
   "source": [
    "#seeing if any data is missing\n",
    "df_plankton.isnull().sum()"
   ]
  },
  {
   "cell_type": "code",
   "execution_count": 9,
   "id": "e77bbb32",
   "metadata": {},
   "outputs": [
    {
     "data": {
      "text/plain": [
       "False    115\n",
       "dtype: int64"
      ]
     },
     "execution_count": 9,
     "metadata": {},
     "output_type": "execute_result"
    }
   ],
   "source": [
    "#looking for duplicates\n",
    "(df_plankton.duplicated().value_counts())"
   ]
  },
  {
   "cell_type": "markdown",
   "id": "a41b7754",
   "metadata": {},
   "source": [
    "# no missing data or duplicated rows"
   ]
  },
  {
   "cell_type": "code",
   "execution_count": null,
   "id": "22ee9c83",
   "metadata": {},
   "outputs": [],
   "source": []
  }
 ],
 "metadata": {
  "kernelspec": {
   "display_name": "Python 3 (ipykernel)",
   "language": "python",
   "name": "python3"
  },
  "language_info": {
   "codemirror_mode": {
    "name": "ipython",
    "version": 3
   },
   "file_extension": ".py",
   "mimetype": "text/x-python",
   "name": "python",
   "nbconvert_exporter": "python",
   "pygments_lexer": "ipython3",
   "version": "3.9.12"
  }
 },
 "nbformat": 4,
 "nbformat_minor": 5
}
