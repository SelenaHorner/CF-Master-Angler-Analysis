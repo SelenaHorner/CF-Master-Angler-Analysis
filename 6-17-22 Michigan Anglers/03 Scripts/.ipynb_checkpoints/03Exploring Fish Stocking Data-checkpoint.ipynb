{
 "cells": [
  {
   "cell_type": "markdown",
   "id": "ef18b938",
   "metadata": {},
   "source": [
    "# Summary of Notebook\n",
    "### 589 records\n",
    "### range in years = 1994 to 2019\n",
    "### did not need to export because nothing needed to be changed"
   ]
  },
  {
   "cell_type": "markdown",
   "id": "b6645930",
   "metadata": {},
   "source": [
    "# Importing Libraries"
   ]
  },
  {
   "cell_type": "code",
   "execution_count": 2,
   "id": "6924750e",
   "metadata": {},
   "outputs": [],
   "source": [
    "#importing libraries\n",
    "import pandas as pd\n",
    "import numpy as np\n",
    "import os\n",
    "import matplotlib.pyplot as plt\n",
    "import seaborn as sns\n",
    "import scipy\n",
    "import datetime as dt"
   ]
  },
  {
   "cell_type": "markdown",
   "id": "aa312c40",
   "metadata": {},
   "source": [
    "# Importing dataframe"
   ]
  },
  {
   "cell_type": "code",
   "execution_count": 3,
   "id": "eebb5e5b",
   "metadata": {},
   "outputs": [],
   "source": [
    "#import csv master angler dataframe\n",
    "df_fish = pd.read_csv(r'C:\\Users\\Selena\\Desktop\\6-17-22 Michigan Anglers\\02 Data\\Original\\3fish stocking data.csv')\n",
    "path = r'C:\\Users\\Selena\\Desktop\\6-17-22 Michigan Anglers'\n",
    "df_fish = pd.read_csv(os.path.join(path, '02 Data', 'Original', '3fish stocking data.csv'))"
   ]
  },
  {
   "cell_type": "markdown",
   "id": "d2565270",
   "metadata": {},
   "source": [
    "# Looking at the dataframe"
   ]
  },
  {
   "cell_type": "code",
   "execution_count": 4,
   "id": "8c98ebf0",
   "metadata": {},
   "outputs": [
    {
     "name": "stdout",
     "output_type": "stream",
     "text": [
      "<class 'pandas.core.frame.DataFrame'>\n",
      "RangeIndex: 589 entries, 0 to 588\n",
      "Data columns (total 3 columns):\n",
      " #   Column          Non-Null Count  Dtype \n",
      "---  ------          --------------  ----- \n",
      " 0   year            589 non-null    int64 \n",
      " 1   species         589 non-null    object\n",
      " 2   number_stocked  589 non-null    int64 \n",
      "dtypes: int64(2), object(1)\n",
      "memory usage: 13.9+ KB\n"
     ]
    }
   ],
   "source": [
    "df_fish.info()"
   ]
  },
  {
   "cell_type": "code",
   "execution_count": 5,
   "id": "77075afb",
   "metadata": {},
   "outputs": [
    {
     "data": {
      "text/html": [
       "<div>\n",
       "<style scoped>\n",
       "    .dataframe tbody tr th:only-of-type {\n",
       "        vertical-align: middle;\n",
       "    }\n",
       "\n",
       "    .dataframe tbody tr th {\n",
       "        vertical-align: top;\n",
       "    }\n",
       "\n",
       "    .dataframe thead th {\n",
       "        text-align: right;\n",
       "    }\n",
       "</style>\n",
       "<table border=\"1\" class=\"dataframe\">\n",
       "  <thead>\n",
       "    <tr style=\"text-align: right;\">\n",
       "      <th></th>\n",
       "      <th>year</th>\n",
       "      <th>species</th>\n",
       "      <th>number_stocked</th>\n",
       "    </tr>\n",
       "  </thead>\n",
       "  <tbody>\n",
       "    <tr>\n",
       "      <th>0</th>\n",
       "      <td>1994</td>\n",
       "      <td>atlantic salmon</td>\n",
       "      <td>39074</td>\n",
       "    </tr>\n",
       "    <tr>\n",
       "      <th>1</th>\n",
       "      <td>1994</td>\n",
       "      <td>bluegill</td>\n",
       "      <td>455</td>\n",
       "    </tr>\n",
       "    <tr>\n",
       "      <th>2</th>\n",
       "      <td>1994</td>\n",
       "      <td>brook trout</td>\n",
       "      <td>309536</td>\n",
       "    </tr>\n",
       "    <tr>\n",
       "      <th>3</th>\n",
       "      <td>1994</td>\n",
       "      <td>brown trout</td>\n",
       "      <td>2411757</td>\n",
       "    </tr>\n",
       "    <tr>\n",
       "      <th>4</th>\n",
       "      <td>1994</td>\n",
       "      <td>channel catfish</td>\n",
       "      <td>64230</td>\n",
       "    </tr>\n",
       "  </tbody>\n",
       "</table>\n",
       "</div>"
      ],
      "text/plain": [
       "   year          species  number_stocked\n",
       "0  1994  atlantic salmon           39074\n",
       "1  1994         bluegill             455\n",
       "2  1994      brook trout          309536\n",
       "3  1994      brown trout         2411757\n",
       "4  1994  channel catfish           64230"
      ]
     },
     "execution_count": 5,
     "metadata": {},
     "output_type": "execute_result"
    }
   ],
   "source": [
    "df_fish.head()"
   ]
  },
  {
   "cell_type": "code",
   "execution_count": 6,
   "id": "6cd4bde1",
   "metadata": {},
   "outputs": [
    {
     "data": {
      "text/plain": [
       "(589, 3)"
      ]
     },
     "execution_count": 6,
     "metadata": {},
     "output_type": "execute_result"
    }
   ],
   "source": [
    "df_fish.shape"
   ]
  },
  {
   "cell_type": "code",
   "execution_count": 7,
   "id": "bbb44753",
   "metadata": {},
   "outputs": [
    {
     "data": {
      "text/plain": [
       "year              0\n",
       "species           0\n",
       "number_stocked    0\n",
       "dtype: int64"
      ]
     },
     "execution_count": 7,
     "metadata": {},
     "output_type": "execute_result"
    }
   ],
   "source": [
    "#seeing if any data is missing\n",
    "df_fish.isnull().sum()"
   ]
  },
  {
   "cell_type": "code",
   "execution_count": 8,
   "id": "4448bd52",
   "metadata": {},
   "outputs": [
    {
     "data": {
      "text/plain": [
       "False    589\n",
       "dtype: int64"
      ]
     },
     "execution_count": 8,
     "metadata": {},
     "output_type": "execute_result"
    }
   ],
   "source": [
    "#looking for duplicates\n",
    "(df_fish.duplicated().value_counts())"
   ]
  },
  {
   "cell_type": "code",
   "execution_count": 9,
   "id": "1cd49624",
   "metadata": {},
   "outputs": [
    {
     "data": {
      "text/html": [
       "<div>\n",
       "<style scoped>\n",
       "    .dataframe tbody tr th:only-of-type {\n",
       "        vertical-align: middle;\n",
       "    }\n",
       "\n",
       "    .dataframe tbody tr th {\n",
       "        vertical-align: top;\n",
       "    }\n",
       "\n",
       "    .dataframe thead th {\n",
       "        text-align: right;\n",
       "    }\n",
       "</style>\n",
       "<table border=\"1\" class=\"dataframe\">\n",
       "  <thead>\n",
       "    <tr style=\"text-align: right;\">\n",
       "      <th></th>\n",
       "      <th>year</th>\n",
       "      <th>number_stocked</th>\n",
       "    </tr>\n",
       "  </thead>\n",
       "  <tbody>\n",
       "    <tr>\n",
       "      <th>count</th>\n",
       "      <td>589.000000</td>\n",
       "      <td>5.890000e+02</td>\n",
       "    </tr>\n",
       "    <tr>\n",
       "      <th>mean</th>\n",
       "      <td>2006.480475</td>\n",
       "      <td>1.403691e+06</td>\n",
       "    </tr>\n",
       "    <tr>\n",
       "      <th>std</th>\n",
       "      <td>7.580299</td>\n",
       "      <td>3.973546e+06</td>\n",
       "    </tr>\n",
       "    <tr>\n",
       "      <th>min</th>\n",
       "      <td>1994.000000</td>\n",
       "      <td>1.000000e+00</td>\n",
       "    </tr>\n",
       "    <tr>\n",
       "      <th>25%</th>\n",
       "      <td>2000.000000</td>\n",
       "      <td>6.112000e+03</td>\n",
       "    </tr>\n",
       "    <tr>\n",
       "      <th>50%</th>\n",
       "      <td>2007.000000</td>\n",
       "      <td>6.445600e+04</td>\n",
       "    </tr>\n",
       "    <tr>\n",
       "      <th>75%</th>\n",
       "      <td>2013.000000</td>\n",
       "      <td>1.211445e+06</td>\n",
       "    </tr>\n",
       "    <tr>\n",
       "      <th>max</th>\n",
       "      <td>2019.000000</td>\n",
       "      <td>3.085132e+07</td>\n",
       "    </tr>\n",
       "  </tbody>\n",
       "</table>\n",
       "</div>"
      ],
      "text/plain": [
       "              year  number_stocked\n",
       "count   589.000000    5.890000e+02\n",
       "mean   2006.480475    1.403691e+06\n",
       "std       7.580299    3.973546e+06\n",
       "min    1994.000000    1.000000e+00\n",
       "25%    2000.000000    6.112000e+03\n",
       "50%    2007.000000    6.445600e+04\n",
       "75%    2013.000000    1.211445e+06\n",
       "max    2019.000000    3.085132e+07"
      ]
     },
     "execution_count": 9,
     "metadata": {},
     "output_type": "execute_result"
    }
   ],
   "source": [
    "df_fish.describe()"
   ]
  },
  {
   "cell_type": "markdown",
   "id": "83277b8f",
   "metadata": {},
   "source": [
    "# Makes sense for the range in years."
   ]
  },
  {
   "cell_type": "code",
   "execution_count": null,
   "id": "08b68216",
   "metadata": {},
   "outputs": [],
   "source": []
  }
 ],
 "metadata": {
  "kernelspec": {
   "display_name": "Python 3 (ipykernel)",
   "language": "python",
   "name": "python3"
  },
  "language_info": {
   "codemirror_mode": {
    "name": "ipython",
    "version": 3
   },
   "file_extension": ".py",
   "mimetype": "text/x-python",
   "name": "python",
   "nbconvert_exporter": "python",
   "pygments_lexer": "ipython3",
   "version": "3.9.12"
  }
 },
 "nbformat": 4,
 "nbformat_minor": 5
}
