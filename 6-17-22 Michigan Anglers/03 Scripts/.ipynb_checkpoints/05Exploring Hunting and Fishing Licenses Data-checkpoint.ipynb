{
 "cells": [
  {
   "cell_type": "markdown",
   "id": "63840aaa",
   "metadata": {},
   "source": [
    "# Summary of Notebook\n",
    "### 26 records; no missing values or duplicate rows\n",
    "### dropped date column\n",
    "### exported as a csv\n",
    "### saved as licenses_cleaned"
   ]
  },
  {
   "cell_type": "markdown",
   "id": "786b4ef1",
   "metadata": {},
   "source": [
    "# Importing libraries"
   ]
  },
  {
   "cell_type": "code",
   "execution_count": 1,
   "id": "ed64b26e",
   "metadata": {},
   "outputs": [],
   "source": [
    "#importing libraries\n",
    "import pandas as pd\n",
    "import numpy as np\n",
    "import os\n",
    "import matplotlib.pyplot as plt\n",
    "import seaborn as sns\n",
    "import scipy\n",
    "import datetime as dt"
   ]
  },
  {
   "cell_type": "markdown",
   "id": "ac89bc0f",
   "metadata": {},
   "source": [
    "# Importing dataframe"
   ]
  },
  {
   "cell_type": "code",
   "execution_count": 2,
   "id": "f980ad7a",
   "metadata": {},
   "outputs": [],
   "source": [
    "#import csv hunting licenses dataframe\n",
    "df_license = pd.read_csv(r'C:\\Users\\Selena\\Desktop\\6-17-22 Michigan Anglers\\02 Data\\Original\\5hunting fishing licenses MI.csv')\n",
    "path = r'C:\\Users\\Selena\\Desktop\\6-17-22 Michigan Anglers'\n",
    "df_license = pd.read_csv(os.path.join(path, '02 Data', 'Original', '5hunting fishing licenses MI.csv'))"
   ]
  },
  {
   "cell_type": "markdown",
   "id": "a5f427b9",
   "metadata": {},
   "source": [
    "# Checking out the dataframe"
   ]
  },
  {
   "cell_type": "code",
   "execution_count": 3,
   "id": "a98563d2",
   "metadata": {},
   "outputs": [
    {
     "name": "stdout",
     "output_type": "stream",
     "text": [
      "<class 'pandas.core.frame.DataFrame'>\n",
      "RangeIndex: 26 entries, 0 to 25\n",
      "Data columns (total 3 columns):\n",
      " #   Column                                         Non-Null Count  Dtype  \n",
      "---  ------                                         --------------  -----  \n",
      " 0   date                                           26 non-null     object \n",
      " 1   year                                           26 non-null     int64  \n",
      " 2    MI dollars spent hunting & fishing licenses   26 non-null     float64\n",
      "dtypes: float64(1), int64(1), object(1)\n",
      "memory usage: 752.0+ bytes\n"
     ]
    }
   ],
   "source": [
    "df_license.info()"
   ]
  },
  {
   "cell_type": "code",
   "execution_count": 4,
   "id": "eba10efe",
   "metadata": {},
   "outputs": [
    {
     "data": {
      "text/html": [
       "<div>\n",
       "<style scoped>\n",
       "    .dataframe tbody tr th:only-of-type {\n",
       "        vertical-align: middle;\n",
       "    }\n",
       "\n",
       "    .dataframe tbody tr th {\n",
       "        vertical-align: top;\n",
       "    }\n",
       "\n",
       "    .dataframe thead th {\n",
       "        text-align: right;\n",
       "    }\n",
       "</style>\n",
       "<table border=\"1\" class=\"dataframe\">\n",
       "  <thead>\n",
       "    <tr style=\"text-align: right;\">\n",
       "      <th></th>\n",
       "      <th>date</th>\n",
       "      <th>year</th>\n",
       "      <th>MI dollars spent hunting &amp; fishing licenses</th>\n",
       "    </tr>\n",
       "  </thead>\n",
       "  <tbody>\n",
       "    <tr>\n",
       "      <th>0</th>\n",
       "      <td>1/1/1994</td>\n",
       "      <td>1994</td>\n",
       "      <td>39000000.0</td>\n",
       "    </tr>\n",
       "    <tr>\n",
       "      <th>1</th>\n",
       "      <td>1/1/1995</td>\n",
       "      <td>1995</td>\n",
       "      <td>39000000.0</td>\n",
       "    </tr>\n",
       "    <tr>\n",
       "      <th>2</th>\n",
       "      <td>1/1/1996</td>\n",
       "      <td>1996</td>\n",
       "      <td>42000000.0</td>\n",
       "    </tr>\n",
       "    <tr>\n",
       "      <th>3</th>\n",
       "      <td>1/1/1997</td>\n",
       "      <td>1997</td>\n",
       "      <td>29000000.0</td>\n",
       "    </tr>\n",
       "    <tr>\n",
       "      <th>4</th>\n",
       "      <td>1/1/1998</td>\n",
       "      <td>1998</td>\n",
       "      <td>20000000.0</td>\n",
       "    </tr>\n",
       "  </tbody>\n",
       "</table>\n",
       "</div>"
      ],
      "text/plain": [
       "       date  year   MI dollars spent hunting & fishing licenses \n",
       "0  1/1/1994  1994                                     39000000.0\n",
       "1  1/1/1995  1995                                     39000000.0\n",
       "2  1/1/1996  1996                                     42000000.0\n",
       "3  1/1/1997  1997                                     29000000.0\n",
       "4  1/1/1998  1998                                     20000000.0"
      ]
     },
     "execution_count": 4,
     "metadata": {},
     "output_type": "execute_result"
    }
   ],
   "source": [
    "df_license.head()"
   ]
  },
  {
   "cell_type": "code",
   "execution_count": 5,
   "id": "e4ba4a21",
   "metadata": {},
   "outputs": [
    {
     "name": "stderr",
     "output_type": "stream",
     "text": [
      "C:\\Users\\Selena\\AppData\\Local\\Temp\\ipykernel_16416\\3918654315.py:2: FutureWarning: In a future version of pandas all arguments of DataFrame.drop except for the argument 'labels' will be keyword-only.\n",
      "  df_license = df_license.drop('date', 1)\n"
     ]
    }
   ],
   "source": [
    "#dropping date\n",
    "df_license = df_license.drop('date', 1)"
   ]
  },
  {
   "cell_type": "code",
   "execution_count": 6,
   "id": "9a7edbc9",
   "metadata": {},
   "outputs": [
    {
     "data": {
      "text/html": [
       "<div>\n",
       "<style scoped>\n",
       "    .dataframe tbody tr th:only-of-type {\n",
       "        vertical-align: middle;\n",
       "    }\n",
       "\n",
       "    .dataframe tbody tr th {\n",
       "        vertical-align: top;\n",
       "    }\n",
       "\n",
       "    .dataframe thead th {\n",
       "        text-align: right;\n",
       "    }\n",
       "</style>\n",
       "<table border=\"1\" class=\"dataframe\">\n",
       "  <thead>\n",
       "    <tr style=\"text-align: right;\">\n",
       "      <th></th>\n",
       "      <th>year</th>\n",
       "      <th>MI dollars spent hunting &amp; fishing licenses</th>\n",
       "    </tr>\n",
       "  </thead>\n",
       "  <tbody>\n",
       "    <tr>\n",
       "      <th>0</th>\n",
       "      <td>1994</td>\n",
       "      <td>39000000.0</td>\n",
       "    </tr>\n",
       "    <tr>\n",
       "      <th>1</th>\n",
       "      <td>1995</td>\n",
       "      <td>39000000.0</td>\n",
       "    </tr>\n",
       "    <tr>\n",
       "      <th>2</th>\n",
       "      <td>1996</td>\n",
       "      <td>42000000.0</td>\n",
       "    </tr>\n",
       "    <tr>\n",
       "      <th>3</th>\n",
       "      <td>1997</td>\n",
       "      <td>29000000.0</td>\n",
       "    </tr>\n",
       "    <tr>\n",
       "      <th>4</th>\n",
       "      <td>1998</td>\n",
       "      <td>20000000.0</td>\n",
       "    </tr>\n",
       "  </tbody>\n",
       "</table>\n",
       "</div>"
      ],
      "text/plain": [
       "   year   MI dollars spent hunting & fishing licenses \n",
       "0  1994                                     39000000.0\n",
       "1  1995                                     39000000.0\n",
       "2  1996                                     42000000.0\n",
       "3  1997                                     29000000.0\n",
       "4  1998                                     20000000.0"
      ]
     },
     "execution_count": 6,
     "metadata": {},
     "output_type": "execute_result"
    }
   ],
   "source": [
    "df_license.head()"
   ]
  },
  {
   "cell_type": "code",
   "execution_count": 7,
   "id": "0f3cb7de",
   "metadata": {},
   "outputs": [
    {
     "data": {
      "text/plain": [
       "year                                             0\n",
       " MI dollars spent hunting & fishing licenses     0\n",
       "dtype: int64"
      ]
     },
     "execution_count": 7,
     "metadata": {},
     "output_type": "execute_result"
    }
   ],
   "source": [
    "#seeing if any data is missing\n",
    "df_license.isnull().sum()"
   ]
  },
  {
   "cell_type": "code",
   "execution_count": 8,
   "id": "04998720",
   "metadata": {},
   "outputs": [
    {
     "data": {
      "text/plain": [
       "False    26\n",
       "dtype: int64"
      ]
     },
     "execution_count": 8,
     "metadata": {},
     "output_type": "execute_result"
    }
   ],
   "source": [
    "#looking for duplicates\n",
    "(df_license.duplicated().value_counts())"
   ]
  },
  {
   "cell_type": "code",
   "execution_count": 9,
   "id": "886ae7cd",
   "metadata": {},
   "outputs": [
    {
     "data": {
      "text/html": [
       "<div>\n",
       "<style scoped>\n",
       "    .dataframe tbody tr th:only-of-type {\n",
       "        vertical-align: middle;\n",
       "    }\n",
       "\n",
       "    .dataframe tbody tr th {\n",
       "        vertical-align: top;\n",
       "    }\n",
       "\n",
       "    .dataframe thead th {\n",
       "        text-align: right;\n",
       "    }\n",
       "</style>\n",
       "<table border=\"1\" class=\"dataframe\">\n",
       "  <thead>\n",
       "    <tr style=\"text-align: right;\">\n",
       "      <th></th>\n",
       "      <th>year</th>\n",
       "      <th>MI dollars spent hunting &amp; fishing licenses</th>\n",
       "    </tr>\n",
       "  </thead>\n",
       "  <tbody>\n",
       "    <tr>\n",
       "      <th>count</th>\n",
       "      <td>26.000000</td>\n",
       "      <td>2.600000e+01</td>\n",
       "    </tr>\n",
       "    <tr>\n",
       "      <th>mean</th>\n",
       "      <td>2006.500000</td>\n",
       "      <td>4.657692e+07</td>\n",
       "    </tr>\n",
       "    <tr>\n",
       "      <th>std</th>\n",
       "      <td>7.648529</td>\n",
       "      <td>1.589005e+07</td>\n",
       "    </tr>\n",
       "    <tr>\n",
       "      <th>min</th>\n",
       "      <td>1994.000000</td>\n",
       "      <td>1.300000e+07</td>\n",
       "    </tr>\n",
       "    <tr>\n",
       "      <th>25%</th>\n",
       "      <td>2000.250000</td>\n",
       "      <td>3.975000e+07</td>\n",
       "    </tr>\n",
       "    <tr>\n",
       "      <th>50%</th>\n",
       "      <td>2006.500000</td>\n",
       "      <td>4.900000e+07</td>\n",
       "    </tr>\n",
       "    <tr>\n",
       "      <th>75%</th>\n",
       "      <td>2012.750000</td>\n",
       "      <td>5.225000e+07</td>\n",
       "    </tr>\n",
       "    <tr>\n",
       "      <th>max</th>\n",
       "      <td>2019.000000</td>\n",
       "      <td>8.400000e+07</td>\n",
       "    </tr>\n",
       "  </tbody>\n",
       "</table>\n",
       "</div>"
      ],
      "text/plain": [
       "              year   MI dollars spent hunting & fishing licenses \n",
       "count    26.000000                                   2.600000e+01\n",
       "mean   2006.500000                                   4.657692e+07\n",
       "std       7.648529                                   1.589005e+07\n",
       "min    1994.000000                                   1.300000e+07\n",
       "25%    2000.250000                                   3.975000e+07\n",
       "50%    2006.500000                                   4.900000e+07\n",
       "75%    2012.750000                                   5.225000e+07\n",
       "max    2019.000000                                   8.400000e+07"
      ]
     },
     "execution_count": 9,
     "metadata": {},
     "output_type": "execute_result"
    }
   ],
   "source": [
    "df_license.describe()"
   ]
  },
  {
   "cell_type": "markdown",
   "id": "606e8ff8",
   "metadata": {},
   "source": [
    "# 1994 through 2019 with a range in spending from 1.3 to 8.4"
   ]
  },
  {
   "cell_type": "code",
   "execution_count": 10,
   "id": "31d958ec",
   "metadata": {},
   "outputs": [],
   "source": [
    "#exporting the file as a csv\n",
    "df_license.to_csv(os.path.join(path, '02 Data','Prepared', 'licenses_cleaned.csv'))"
   ]
  },
  {
   "cell_type": "code",
   "execution_count": null,
   "id": "6228d24d",
   "metadata": {},
   "outputs": [],
   "source": []
  }
 ],
 "metadata": {
  "kernelspec": {
   "display_name": "Python 3 (ipykernel)",
   "language": "python",
   "name": "python3"
  },
  "language_info": {
   "codemirror_mode": {
    "name": "ipython",
    "version": 3
   },
   "file_extension": ".py",
   "mimetype": "text/x-python",
   "name": "python",
   "nbconvert_exporter": "python",
   "pygments_lexer": "ipython3",
   "version": "3.9.12"
  }
 },
 "nbformat": 4,
 "nbformat_minor": 5
}
