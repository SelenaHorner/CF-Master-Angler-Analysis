{
 "cells": [
  {
   "cell_type": "markdown",
   "id": "110687fc",
   "metadata": {},
   "source": [
    "# Summary of Notebook\n",
    "### 51 species are listed as types of fish that can be caught for master angler certification\n",
    "### No null values or duplicates were in the dataframe\n",
    "### Range of state required lengths ranged from 5 to 50 inches\n",
    "### State records in pounts ranged from 1.38 to 193 pounds\n",
    "### Exported clean file as csv\n",
    "### Saved as sizes_cleaned"
   ]
  },
  {
   "cell_type": "markdown",
   "id": "081092d3",
   "metadata": {},
   "source": [
    "# Importing libraries"
   ]
  },
  {
   "cell_type": "code",
   "execution_count": 1,
   "id": "c76582dd",
   "metadata": {},
   "outputs": [],
   "source": [
    "#importing libraries\n",
    "import pandas as pd\n",
    "import numpy as np\n",
    "import os\n",
    "import matplotlib.pyplot as plt\n",
    "import seaborn as sns\n",
    "import scipy\n",
    "import datetime as dt"
   ]
  },
  {
   "cell_type": "code",
   "execution_count": 2,
   "id": "472d957e",
   "metadata": {},
   "outputs": [],
   "source": [
    "#import csv fish sizes dataframe\n",
    "df_sizes = pd.read_csv(r'C:\\Users\\Selena\\Desktop\\6-17-22 Michigan Anglers\\02 Data\\Original\\2master angler fish sizes.csv')\n",
    "path = r'C:\\Users\\Selena\\Desktop\\6-17-22 Michigan Anglers'\n",
    "df_sizes = pd.read_csv(os.path.join(path, '02 Data', 'Original', '2master angler fish sizes.csv'))"
   ]
  },
  {
   "cell_type": "code",
   "execution_count": 3,
   "id": "cbf0a6ff",
   "metadata": {},
   "outputs": [
    {
     "name": "stdout",
     "output_type": "stream",
     "text": [
      "<class 'pandas.core.frame.DataFrame'>\n",
      "RangeIndex: 51 entries, 0 to 50\n",
      "Data columns (total 3 columns):\n",
      " #   Column                   Non-Null Count  Dtype  \n",
      "---  ------                   --------------  -----  \n",
      " 0   species                  51 non-null     object \n",
      " 1   minimum length (inches)  51 non-null     float64\n",
      " 2   state record (pounds)    51 non-null     float64\n",
      "dtypes: float64(2), object(1)\n",
      "memory usage: 1.3+ KB\n"
     ]
    }
   ],
   "source": [
    "df_sizes.info()"
   ]
  },
  {
   "cell_type": "code",
   "execution_count": 4,
   "id": "c9e64e2a",
   "metadata": {},
   "outputs": [
    {
     "data": {
      "text/html": [
       "<div>\n",
       "<style scoped>\n",
       "    .dataframe tbody tr th:only-of-type {\n",
       "        vertical-align: middle;\n",
       "    }\n",
       "\n",
       "    .dataframe tbody tr th {\n",
       "        vertical-align: top;\n",
       "    }\n",
       "\n",
       "    .dataframe thead th {\n",
       "        text-align: right;\n",
       "    }\n",
       "</style>\n",
       "<table border=\"1\" class=\"dataframe\">\n",
       "  <thead>\n",
       "    <tr style=\"text-align: right;\">\n",
       "      <th></th>\n",
       "      <th>species</th>\n",
       "      <th>minimum length (inches)</th>\n",
       "      <th>state record (pounds)</th>\n",
       "    </tr>\n",
       "  </thead>\n",
       "  <tbody>\n",
       "    <tr>\n",
       "      <th>0</th>\n",
       "      <td>atlantic salmon</td>\n",
       "      <td>32.0</td>\n",
       "      <td>32.63</td>\n",
       "    </tr>\n",
       "    <tr>\n",
       "      <th>1</th>\n",
       "      <td>bigmouth buffalo</td>\n",
       "      <td>32.0</td>\n",
       "      <td>33.00</td>\n",
       "    </tr>\n",
       "    <tr>\n",
       "      <th>2</th>\n",
       "      <td>black buffalo</td>\n",
       "      <td>26.0</td>\n",
       "      <td>54.30</td>\n",
       "    </tr>\n",
       "    <tr>\n",
       "      <th>3</th>\n",
       "      <td>black bullhead</td>\n",
       "      <td>14.0</td>\n",
       "      <td>3.44</td>\n",
       "    </tr>\n",
       "    <tr>\n",
       "      <th>4</th>\n",
       "      <td>black crappie</td>\n",
       "      <td>14.0</td>\n",
       "      <td>4.13</td>\n",
       "    </tr>\n",
       "  </tbody>\n",
       "</table>\n",
       "</div>"
      ],
      "text/plain": [
       "            species  minimum length (inches)  state record (pounds)\n",
       "0   atlantic salmon                     32.0                  32.63\n",
       "1  bigmouth buffalo                     32.0                  33.00\n",
       "2     black buffalo                     26.0                  54.30\n",
       "3    black bullhead                     14.0                   3.44\n",
       "4     black crappie                     14.0                   4.13"
      ]
     },
     "execution_count": 4,
     "metadata": {},
     "output_type": "execute_result"
    }
   ],
   "source": [
    "df_sizes.head()"
   ]
  },
  {
   "cell_type": "code",
   "execution_count": 5,
   "id": "03a71efe",
   "metadata": {},
   "outputs": [
    {
     "data": {
      "text/plain": [
       "(51, 3)"
      ]
     },
     "execution_count": 5,
     "metadata": {},
     "output_type": "execute_result"
    }
   ],
   "source": [
    "df_sizes.shape"
   ]
  },
  {
   "cell_type": "code",
   "execution_count": 6,
   "id": "0abfe329",
   "metadata": {},
   "outputs": [
    {
     "data": {
      "text/html": [
       "<div>\n",
       "<style scoped>\n",
       "    .dataframe tbody tr th:only-of-type {\n",
       "        vertical-align: middle;\n",
       "    }\n",
       "\n",
       "    .dataframe tbody tr th {\n",
       "        vertical-align: top;\n",
       "    }\n",
       "\n",
       "    .dataframe thead th {\n",
       "        text-align: right;\n",
       "    }\n",
       "</style>\n",
       "<table border=\"1\" class=\"dataframe\">\n",
       "  <thead>\n",
       "    <tr style=\"text-align: right;\">\n",
       "      <th></th>\n",
       "      <th>minimum length (inches)</th>\n",
       "      <th>state record (pounds)</th>\n",
       "    </tr>\n",
       "  </thead>\n",
       "  <tbody>\n",
       "    <tr>\n",
       "      <th>count</th>\n",
       "      <td>51.000000</td>\n",
       "      <td>51.000000</td>\n",
       "    </tr>\n",
       "    <tr>\n",
       "      <th>mean</th>\n",
       "      <td>22.715686</td>\n",
       "      <td>22.583529</td>\n",
       "    </tr>\n",
       "    <tr>\n",
       "      <th>std</th>\n",
       "      <td>11.011928</td>\n",
       "      <td>30.803142</td>\n",
       "    </tr>\n",
       "    <tr>\n",
       "      <th>min</th>\n",
       "      <td>9.000000</td>\n",
       "      <td>1.380000</td>\n",
       "    </tr>\n",
       "    <tr>\n",
       "      <th>25%</th>\n",
       "      <td>14.000000</td>\n",
       "      <td>3.760000</td>\n",
       "    </tr>\n",
       "    <tr>\n",
       "      <th>50%</th>\n",
       "      <td>21.000000</td>\n",
       "      <td>11.940000</td>\n",
       "    </tr>\n",
       "    <tr>\n",
       "      <th>75%</th>\n",
       "      <td>29.500000</td>\n",
       "      <td>32.815000</td>\n",
       "    </tr>\n",
       "    <tr>\n",
       "      <th>max</th>\n",
       "      <td>50.000000</td>\n",
       "      <td>193.000000</td>\n",
       "    </tr>\n",
       "  </tbody>\n",
       "</table>\n",
       "</div>"
      ],
      "text/plain": [
       "       minimum length (inches)  state record (pounds)\n",
       "count                51.000000              51.000000\n",
       "mean                 22.715686              22.583529\n",
       "std                  11.011928              30.803142\n",
       "min                   9.000000               1.380000\n",
       "25%                  14.000000               3.760000\n",
       "50%                  21.000000              11.940000\n",
       "75%                  29.500000              32.815000\n",
       "max                  50.000000             193.000000"
      ]
     },
     "execution_count": 6,
     "metadata": {},
     "output_type": "execute_result"
    }
   ],
   "source": [
    "df_sizes.describe()"
   ]
  },
  {
   "cell_type": "code",
   "execution_count": 7,
   "id": "83713408",
   "metadata": {},
   "outputs": [],
   "source": [
    "#renaming columns\n",
    "df_sizes = df_sizes.rename(columns={'minimum length (inches)': 'state minimum length (inches)'})"
   ]
  },
  {
   "cell_type": "code",
   "execution_count": 8,
   "id": "95ceb425",
   "metadata": {},
   "outputs": [
    {
     "data": {
      "text/html": [
       "<div>\n",
       "<style scoped>\n",
       "    .dataframe tbody tr th:only-of-type {\n",
       "        vertical-align: middle;\n",
       "    }\n",
       "\n",
       "    .dataframe tbody tr th {\n",
       "        vertical-align: top;\n",
       "    }\n",
       "\n",
       "    .dataframe thead th {\n",
       "        text-align: right;\n",
       "    }\n",
       "</style>\n",
       "<table border=\"1\" class=\"dataframe\">\n",
       "  <thead>\n",
       "    <tr style=\"text-align: right;\">\n",
       "      <th></th>\n",
       "      <th>species</th>\n",
       "      <th>state minimum length (inches)</th>\n",
       "      <th>state record (pounds)</th>\n",
       "    </tr>\n",
       "  </thead>\n",
       "  <tbody>\n",
       "    <tr>\n",
       "      <th>0</th>\n",
       "      <td>atlantic salmon</td>\n",
       "      <td>32.0</td>\n",
       "      <td>32.63</td>\n",
       "    </tr>\n",
       "    <tr>\n",
       "      <th>1</th>\n",
       "      <td>bigmouth buffalo</td>\n",
       "      <td>32.0</td>\n",
       "      <td>33.00</td>\n",
       "    </tr>\n",
       "    <tr>\n",
       "      <th>2</th>\n",
       "      <td>black buffalo</td>\n",
       "      <td>26.0</td>\n",
       "      <td>54.30</td>\n",
       "    </tr>\n",
       "    <tr>\n",
       "      <th>3</th>\n",
       "      <td>black bullhead</td>\n",
       "      <td>14.0</td>\n",
       "      <td>3.44</td>\n",
       "    </tr>\n",
       "    <tr>\n",
       "      <th>4</th>\n",
       "      <td>black crappie</td>\n",
       "      <td>14.0</td>\n",
       "      <td>4.13</td>\n",
       "    </tr>\n",
       "  </tbody>\n",
       "</table>\n",
       "</div>"
      ],
      "text/plain": [
       "            species  state minimum length (inches)  state record (pounds)\n",
       "0   atlantic salmon                           32.0                  32.63\n",
       "1  bigmouth buffalo                           32.0                  33.00\n",
       "2     black buffalo                           26.0                  54.30\n",
       "3    black bullhead                           14.0                   3.44\n",
       "4     black crappie                           14.0                   4.13"
      ]
     },
     "execution_count": 8,
     "metadata": {},
     "output_type": "execute_result"
    }
   ],
   "source": [
    "df_sizes.head()"
   ]
  },
  {
   "cell_type": "code",
   "execution_count": 9,
   "id": "f7e0ad48",
   "metadata": {},
   "outputs": [],
   "source": [
    "#exporting the file as a csv\n",
    "df_sizes.to_csv(os.path.join(path, '02 Data','Prepared', 'sizes_cleaned.csv'))"
   ]
  },
  {
   "cell_type": "code",
   "execution_count": null,
   "id": "d3a94726",
   "metadata": {},
   "outputs": [],
   "source": []
  }
 ],
 "metadata": {
  "kernelspec": {
   "display_name": "Python 3 (ipykernel)",
   "language": "python",
   "name": "python3"
  },
  "language_info": {
   "codemirror_mode": {
    "name": "ipython",
    "version": 3
   },
   "file_extension": ".py",
   "mimetype": "text/x-python",
   "name": "python",
   "nbconvert_exporter": "python",
   "pygments_lexer": "ipython3",
   "version": "3.9.12"
  }
 },
 "nbformat": 4,
 "nbformat_minor": 5
}
